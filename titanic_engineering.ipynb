{
 "cells": [
  {
   "cell_type": "code",
   "execution_count": 111,
   "metadata": {},
   "outputs": [],
   "source": [
    "import pandas as pd\n",
    "import numpy as np\n",
    "np.random.seed(2019)\n",
    "\n",
    "from sklearn.linear_model import LogisticRegression\n",
    "from sklearn.linear_model import SGDClassifier\n",
    "from sklearn.tree import DecisionTreeClassifier\n",
    "from sklearn.ensemble import RandomForestClassifier\n",
    "from sklearn.ensemble import ExtraTreesClassifier\n",
    "from sklearn.model_selection import cross_validate\n",
    "\n",
    "import xgboost as xgb\n",
    "# jak nie działa inport xgboosta można skorzystać z poniższego importu a poźniej podmienić\n",
    "# import sys\n",
    "# !{sys.executable} -m pip install xgboost\n",
    "\n",
    "import matplotlib.pyplot as plt\n",
    "%matplotlib inline\n"
   ]
  },
  {
   "cell_type": "code",
   "execution_count": 9,
   "metadata": {},
   "outputs": [],
   "source": [
    "df_train = pd.read_csv(\"../day2/input/train.csv\")\n",
    "df_test = pd.read_csv(\"../day2/input/test.csv\")\n",
    "\n",
    "df_all = pd.concat([df_train, df_test], sort = True)"
   ]
  },
  {
   "cell_type": "code",
   "execution_count": 10,
   "metadata": {},
   "outputs": [
    {
     "data": {
      "text/html": [
       "<div>\n",
       "<style scoped>\n",
       "    .dataframe tbody tr th:only-of-type {\n",
       "        vertical-align: middle;\n",
       "    }\n",
       "\n",
       "    .dataframe tbody tr th {\n",
       "        vertical-align: top;\n",
       "    }\n",
       "\n",
       "    .dataframe thead th {\n",
       "        text-align: right;\n",
       "    }\n",
       "</style>\n",
       "<table border=\"1\" class=\"dataframe\">\n",
       "  <thead>\n",
       "    <tr style=\"text-align: right;\">\n",
       "      <th></th>\n",
       "      <th>PassengerId</th>\n",
       "      <th>Survived</th>\n",
       "      <th>Pclass</th>\n",
       "      <th>Name</th>\n",
       "      <th>Sex</th>\n",
       "      <th>Age</th>\n",
       "      <th>SibSp</th>\n",
       "      <th>Parch</th>\n",
       "      <th>Ticket</th>\n",
       "      <th>Fare</th>\n",
       "      <th>Cabin</th>\n",
       "      <th>Embarked</th>\n",
       "    </tr>\n",
       "  </thead>\n",
       "  <tbody>\n",
       "    <tr>\n",
       "      <th>567</th>\n",
       "      <td>568</td>\n",
       "      <td>0</td>\n",
       "      <td>3</td>\n",
       "      <td>Palsson, Mrs. Nils (Alma Cornelia Berglund)</td>\n",
       "      <td>female</td>\n",
       "      <td>29.0</td>\n",
       "      <td>0</td>\n",
       "      <td>4</td>\n",
       "      <td>349909</td>\n",
       "      <td>21.0750</td>\n",
       "      <td>NaN</td>\n",
       "      <td>S</td>\n",
       "    </tr>\n",
       "    <tr>\n",
       "      <th>332</th>\n",
       "      <td>333</td>\n",
       "      <td>0</td>\n",
       "      <td>1</td>\n",
       "      <td>Graham, Mr. George Edward</td>\n",
       "      <td>male</td>\n",
       "      <td>38.0</td>\n",
       "      <td>0</td>\n",
       "      <td>1</td>\n",
       "      <td>PC 17582</td>\n",
       "      <td>153.4625</td>\n",
       "      <td>C91</td>\n",
       "      <td>S</td>\n",
       "    </tr>\n",
       "    <tr>\n",
       "      <th>886</th>\n",
       "      <td>887</td>\n",
       "      <td>0</td>\n",
       "      <td>2</td>\n",
       "      <td>Montvila, Rev. Juozas</td>\n",
       "      <td>male</td>\n",
       "      <td>27.0</td>\n",
       "      <td>0</td>\n",
       "      <td>0</td>\n",
       "      <td>211536</td>\n",
       "      <td>13.0000</td>\n",
       "      <td>NaN</td>\n",
       "      <td>S</td>\n",
       "    </tr>\n",
       "    <tr>\n",
       "      <th>141</th>\n",
       "      <td>142</td>\n",
       "      <td>1</td>\n",
       "      <td>3</td>\n",
       "      <td>Nysten, Miss. Anna Sofia</td>\n",
       "      <td>female</td>\n",
       "      <td>22.0</td>\n",
       "      <td>0</td>\n",
       "      <td>0</td>\n",
       "      <td>347081</td>\n",
       "      <td>7.7500</td>\n",
       "      <td>NaN</td>\n",
       "      <td>S</td>\n",
       "    </tr>\n",
       "    <tr>\n",
       "      <th>397</th>\n",
       "      <td>398</td>\n",
       "      <td>0</td>\n",
       "      <td>2</td>\n",
       "      <td>McKane, Mr. Peter David</td>\n",
       "      <td>male</td>\n",
       "      <td>46.0</td>\n",
       "      <td>0</td>\n",
       "      <td>0</td>\n",
       "      <td>28403</td>\n",
       "      <td>26.0000</td>\n",
       "      <td>NaN</td>\n",
       "      <td>S</td>\n",
       "    </tr>\n",
       "    <tr>\n",
       "      <th>726</th>\n",
       "      <td>727</td>\n",
       "      <td>1</td>\n",
       "      <td>2</td>\n",
       "      <td>Renouf, Mrs. Peter Henry (Lillian Jefferys)</td>\n",
       "      <td>female</td>\n",
       "      <td>30.0</td>\n",
       "      <td>3</td>\n",
       "      <td>0</td>\n",
       "      <td>31027</td>\n",
       "      <td>21.0000</td>\n",
       "      <td>NaN</td>\n",
       "      <td>S</td>\n",
       "    </tr>\n",
       "    <tr>\n",
       "      <th>719</th>\n",
       "      <td>720</td>\n",
       "      <td>0</td>\n",
       "      <td>3</td>\n",
       "      <td>Johnson, Mr. Malkolm Joackim</td>\n",
       "      <td>male</td>\n",
       "      <td>33.0</td>\n",
       "      <td>0</td>\n",
       "      <td>0</td>\n",
       "      <td>347062</td>\n",
       "      <td>7.7750</td>\n",
       "      <td>NaN</td>\n",
       "      <td>S</td>\n",
       "    </tr>\n",
       "    <tr>\n",
       "      <th>742</th>\n",
       "      <td>743</td>\n",
       "      <td>1</td>\n",
       "      <td>1</td>\n",
       "      <td>Ryerson, Miss. Susan Parker \"Suzette\"</td>\n",
       "      <td>female</td>\n",
       "      <td>21.0</td>\n",
       "      <td>2</td>\n",
       "      <td>2</td>\n",
       "      <td>PC 17608</td>\n",
       "      <td>262.3750</td>\n",
       "      <td>B57 B59 B63 B66</td>\n",
       "      <td>C</td>\n",
       "    </tr>\n",
       "    <tr>\n",
       "      <th>33</th>\n",
       "      <td>34</td>\n",
       "      <td>0</td>\n",
       "      <td>2</td>\n",
       "      <td>Wheadon, Mr. Edward H</td>\n",
       "      <td>male</td>\n",
       "      <td>66.0</td>\n",
       "      <td>0</td>\n",
       "      <td>0</td>\n",
       "      <td>C.A. 24579</td>\n",
       "      <td>10.5000</td>\n",
       "      <td>NaN</td>\n",
       "      <td>S</td>\n",
       "    </tr>\n",
       "    <tr>\n",
       "      <th>42</th>\n",
       "      <td>43</td>\n",
       "      <td>0</td>\n",
       "      <td>3</td>\n",
       "      <td>Kraeff, Mr. Theodor</td>\n",
       "      <td>male</td>\n",
       "      <td>NaN</td>\n",
       "      <td>0</td>\n",
       "      <td>0</td>\n",
       "      <td>349253</td>\n",
       "      <td>7.8958</td>\n",
       "      <td>NaN</td>\n",
       "      <td>C</td>\n",
       "    </tr>\n",
       "  </tbody>\n",
       "</table>\n",
       "</div>"
      ],
      "text/plain": [
       "     PassengerId  Survived  Pclass  \\\n",
       "567          568         0       3   \n",
       "332          333         0       1   \n",
       "886          887         0       2   \n",
       "141          142         1       3   \n",
       "397          398         0       2   \n",
       "726          727         1       2   \n",
       "719          720         0       3   \n",
       "742          743         1       1   \n",
       "33            34         0       2   \n",
       "42            43         0       3   \n",
       "\n",
       "                                            Name     Sex   Age  SibSp  Parch  \\\n",
       "567  Palsson, Mrs. Nils (Alma Cornelia Berglund)  female  29.0      0      4   \n",
       "332                    Graham, Mr. George Edward    male  38.0      0      1   \n",
       "886                        Montvila, Rev. Juozas    male  27.0      0      0   \n",
       "141                     Nysten, Miss. Anna Sofia  female  22.0      0      0   \n",
       "397                      McKane, Mr. Peter David    male  46.0      0      0   \n",
       "726  Renouf, Mrs. Peter Henry (Lillian Jefferys)  female  30.0      3      0   \n",
       "719                 Johnson, Mr. Malkolm Joackim    male  33.0      0      0   \n",
       "742        Ryerson, Miss. Susan Parker \"Suzette\"  female  21.0      2      2   \n",
       "33                         Wheadon, Mr. Edward H    male  66.0      0      0   \n",
       "42                           Kraeff, Mr. Theodor    male   NaN      0      0   \n",
       "\n",
       "         Ticket      Fare            Cabin Embarked  \n",
       "567      349909   21.0750              NaN        S  \n",
       "332    PC 17582  153.4625              C91        S  \n",
       "886      211536   13.0000              NaN        S  \n",
       "141      347081    7.7500              NaN        S  \n",
       "397       28403   26.0000              NaN        S  \n",
       "726       31027   21.0000              NaN        S  \n",
       "719      347062    7.7750              NaN        S  \n",
       "742    PC 17608  262.3750  B57 B59 B63 B66        C  \n",
       "33   C.A. 24579   10.5000              NaN        S  \n",
       "42       349253    7.8958              NaN        C  "
      ]
     },
     "execution_count": 10,
     "metadata": {},
     "output_type": "execute_result"
    }
   ],
   "source": [
    "df_train.sample(10)"
   ]
  },
  {
   "cell_type": "code",
   "execution_count": 11,
   "metadata": {},
   "outputs": [
    {
     "data": {
      "text/html": [
       "<div>\n",
       "<style scoped>\n",
       "    .dataframe tbody tr th:only-of-type {\n",
       "        vertical-align: middle;\n",
       "    }\n",
       "\n",
       "    .dataframe tbody tr th {\n",
       "        vertical-align: top;\n",
       "    }\n",
       "\n",
       "    .dataframe thead th {\n",
       "        text-align: right;\n",
       "    }\n",
       "</style>\n",
       "<table border=\"1\" class=\"dataframe\">\n",
       "  <thead>\n",
       "    <tr style=\"text-align: right;\">\n",
       "      <th></th>\n",
       "      <th>PassengerId</th>\n",
       "      <th>Survived</th>\n",
       "      <th>Pclass</th>\n",
       "      <th>Age</th>\n",
       "      <th>SibSp</th>\n",
       "      <th>Parch</th>\n",
       "      <th>Fare</th>\n",
       "    </tr>\n",
       "  </thead>\n",
       "  <tbody>\n",
       "    <tr>\n",
       "      <th>0</th>\n",
       "      <td>1</td>\n",
       "      <td>0</td>\n",
       "      <td>3</td>\n",
       "      <td>22.0</td>\n",
       "      <td>1</td>\n",
       "      <td>0</td>\n",
       "      <td>7.2500</td>\n",
       "    </tr>\n",
       "    <tr>\n",
       "      <th>1</th>\n",
       "      <td>2</td>\n",
       "      <td>1</td>\n",
       "      <td>1</td>\n",
       "      <td>38.0</td>\n",
       "      <td>1</td>\n",
       "      <td>0</td>\n",
       "      <td>71.2833</td>\n",
       "    </tr>\n",
       "    <tr>\n",
       "      <th>2</th>\n",
       "      <td>3</td>\n",
       "      <td>1</td>\n",
       "      <td>3</td>\n",
       "      <td>26.0</td>\n",
       "      <td>0</td>\n",
       "      <td>0</td>\n",
       "      <td>7.9250</td>\n",
       "    </tr>\n",
       "    <tr>\n",
       "      <th>3</th>\n",
       "      <td>4</td>\n",
       "      <td>1</td>\n",
       "      <td>1</td>\n",
       "      <td>35.0</td>\n",
       "      <td>1</td>\n",
       "      <td>0</td>\n",
       "      <td>53.1000</td>\n",
       "    </tr>\n",
       "    <tr>\n",
       "      <th>4</th>\n",
       "      <td>5</td>\n",
       "      <td>0</td>\n",
       "      <td>3</td>\n",
       "      <td>35.0</td>\n",
       "      <td>0</td>\n",
       "      <td>0</td>\n",
       "      <td>8.0500</td>\n",
       "    </tr>\n",
       "  </tbody>\n",
       "</table>\n",
       "</div>"
      ],
      "text/plain": [
       "   PassengerId  Survived  Pclass   Age  SibSp  Parch     Fare\n",
       "0            1         0       3  22.0      1      0   7.2500\n",
       "1            2         1       1  38.0      1      0  71.2833\n",
       "2            3         1       3  26.0      0      0   7.9250\n",
       "3            4         1       1  35.0      1      0  53.1000\n",
       "4            5         0       3  35.0      0      0   8.0500"
      ]
     },
     "execution_count": 11,
     "metadata": {},
     "output_type": "execute_result"
    }
   ],
   "source": [
    "# sprawdzanie, które cechy są int oraz float\n",
    "df_train.select_dtypes(include=[np.int, np.float]).head()"
   ]
  },
  {
   "cell_type": "code",
   "execution_count": 15,
   "metadata": {},
   "outputs": [
    {
     "data": {
      "text/plain": [
       "array([0, 1, 1, ..., 0, 0, 0])"
      ]
     },
     "execution_count": 15,
     "metadata": {},
     "output_type": "execute_result"
    }
   ],
   "source": [
    "# sprawdzanie unikalnych wartości w tabeli\n",
    "# df_all[\"Sex\"].unique()\n",
    "# przypisywanie wartości numerycznych do danych\n",
    "pd.factorize(df_all[\"Sex\"])[0]"
   ]
  },
  {
   "cell_type": "code",
   "execution_count": 16,
   "metadata": {},
   "outputs": [
    {
     "data": {
      "text/plain": [
       "array(['S', 'C', 'Q', nan], dtype=object)"
      ]
     },
     "execution_count": 16,
     "metadata": {},
     "output_type": "execute_result"
    }
   ],
   "source": [
    "df_all[\"Embarked\"].unique()"
   ]
  },
  {
   "cell_type": "code",
   "execution_count": 36,
   "metadata": {},
   "outputs": [],
   "source": [
    "# wykuczenie z danych id pasażerów i informacje o przeżyciu\n",
    "def get_feats(df):\n",
    "    feats = df.select_dtypes(include=[np.int64]).columns.values\n",
    "    black_list = [\"PassengerId\", \"Survived\"]\n",
    "    \n",
    "    return [feat for feat in feats if feat not in black_list]\n",
    "\n",
    "def titanic_engineering(df):\n",
    "    df[\"sex_cat\"] = pd.factorize(df[\"Sex\"])[0]\n",
    "    df[\"embarked_cat\"] = pd.factorize(df[\"Embarked\"])[0]\n",
    "    \n",
    "    return df\n",
    "\n",
    "def get_models():\n",
    "    return[\n",
    "        (\"lr\", LogisticRegression()),\n",
    "        (\"dt\", DecisionTreeClassifier()),\n",
    "        (\"rf\", RandomForestClassifier()),\n",
    "        (\"et\", ExtraTreesClassifier()),\n",
    "    ]\n",
    "    "
   ]
  },
  {
   "cell_type": "code",
   "execution_count": 37,
   "metadata": {},
   "outputs": [],
   "source": [
    "# wizualizacja wyniku\n",
    "def plot_result(model_name, reslut, ylim=(0, 1.)):\n",
    "    mean_train = np.round(np.mean(result[\"train_score\"]),2)\n",
    "    mean_test = np.round(np.mean(result[\"test_score\"]),2)\n",
    "    \n",
    "    plt.title(\"{0}:cross validation\\nmean-train-acc:{1}\\nmean-test-acc:{2}\".format(model_name,mean_train,mean_test))\n",
    "    plt.plot(result[\"train_score\"],\"r-o\", label=\"train\")\n",
    "    plt.plot(result[\"test_score\"],\"r-o\", label=\"test\")\n",
    "    plt.legend(loc=\"best\")\n",
    "    plt.ylabel(\"Accuracy\")\n",
    "    plt.xlabel(\"# of fold\")\n",
    "    plt.ylim(*ylim)\n",
    "    plt.show()\n",
    "    \n",
    "    "
   ]
  },
  {
   "cell_type": "code",
   "execution_count": 38,
   "metadata": {},
   "outputs": [
    {
     "name": "stderr",
     "output_type": "stream",
     "text": [
      "/Users/charlottemoriarty/anaconda3/lib/python3.7/site-packages/sklearn/linear_model/logistic.py:433: FutureWarning: Default solver will be changed to 'lbfgs' in 0.22. Specify a solver to silence this warning.\n",
      "  FutureWarning)\n",
      "/Users/charlottemoriarty/anaconda3/lib/python3.7/site-packages/sklearn/linear_model/logistic.py:433: FutureWarning: Default solver will be changed to 'lbfgs' in 0.22. Specify a solver to silence this warning.\n",
      "  FutureWarning)\n",
      "/Users/charlottemoriarty/anaconda3/lib/python3.7/site-packages/sklearn/linear_model/logistic.py:433: FutureWarning: Default solver will be changed to 'lbfgs' in 0.22. Specify a solver to silence this warning.\n",
      "  FutureWarning)\n",
      "/Users/charlottemoriarty/anaconda3/lib/python3.7/site-packages/sklearn/utils/deprecation.py:125: FutureWarning: You are accessing a training score ('train_score'), which will not be available by default any more in 0.21. If you need training scores, please set return_train_score=True\n",
      "  warnings.warn(*warn_args, **warn_kwargs)\n"
     ]
    },
    {
     "name": "stdout",
     "output_type": "stream",
     "text": [
      "lr\n"
     ]
    },
    {
     "data": {
      "image/png": "[encoded data removed]",
      "text/plain": [
       "<Figure size 432x288 with 1 Axes>"
      ]
     },
     "metadata": {
      "needs_background": "light"
     },
     "output_type": "display_data"
    },
    {
     "name": "stdout",
     "output_type": "stream",
     "text": [
      "dt\n"
     ]
    },
    {
     "name": "stderr",
     "output_type": "stream",
     "text": [
      "/Users/charlottemoriarty/anaconda3/lib/python3.7/site-packages/sklearn/utils/deprecation.py:125: FutureWarning: You are accessing a training score ('train_score'), which will not be available by default any more in 0.21. If you need training scores, please set return_train_score=True\n",
      "  warnings.warn(*warn_args, **warn_kwargs)\n"
     ]
    },
    {
     "data": {
      "image/png": "[encoded data removed]",
      "text/plain": [
       "<Figure size 432x288 with 1 Axes>"
      ]
     },
     "metadata": {
      "needs_background": "light"
     },
     "output_type": "display_data"
    },
    {
     "name": "stderr",
     "output_type": "stream",
     "text": [
      "/Users/charlottemoriarty/anaconda3/lib/python3.7/site-packages/sklearn/ensemble/forest.py:246: FutureWarning: The default value of n_estimators will change from 10 in version 0.20 to 100 in 0.22.\n",
      "  \"10 in version 0.20 to 100 in 0.22.\", FutureWarning)\n",
      "/Users/charlottemoriarty/anaconda3/lib/python3.7/site-packages/sklearn/ensemble/forest.py:246: FutureWarning: The default value of n_estimators will change from 10 in version 0.20 to 100 in 0.22.\n",
      "  \"10 in version 0.20 to 100 in 0.22.\", FutureWarning)\n",
      "/Users/charlottemoriarty/anaconda3/lib/python3.7/site-packages/sklearn/ensemble/forest.py:246: FutureWarning: The default value of n_estimators will change from 10 in version 0.20 to 100 in 0.22.\n",
      "  \"10 in version 0.20 to 100 in 0.22.\", FutureWarning)\n",
      "/Users/charlottemoriarty/anaconda3/lib/python3.7/site-packages/sklearn/utils/deprecation.py:125: FutureWarning: You are accessing a training score ('train_score'), which will not be available by default any more in 0.21. If you need training scores, please set return_train_score=True\n",
      "  warnings.warn(*warn_args, **warn_kwargs)\n"
     ]
    },
    {
     "name": "stdout",
     "output_type": "stream",
     "text": [
      "rf\n"
     ]
    },
    {
     "data": {
      "image/png": "[encoded data removed]",
      "text/plain": [
       "<Figure size 432x288 with 1 Axes>"
      ]
     },
     "metadata": {
      "needs_background": "light"
     },
     "output_type": "display_data"
    },
    {
     "name": "stdout",
     "output_type": "stream",
     "text": [
      "et\n"
     ]
    },
    {
     "name": "stderr",
     "output_type": "stream",
     "text": [
      "/Users/charlottemoriarty/anaconda3/lib/python3.7/site-packages/sklearn/ensemble/forest.py:246: FutureWarning: The default value of n_estimators will change from 10 in version 0.20 to 100 in 0.22.\n",
      "  \"10 in version 0.20 to 100 in 0.22.\", FutureWarning)\n",
      "/Users/charlottemoriarty/anaconda3/lib/python3.7/site-packages/sklearn/ensemble/forest.py:246: FutureWarning: The default value of n_estimators will change from 10 in version 0.20 to 100 in 0.22.\n",
      "  \"10 in version 0.20 to 100 in 0.22.\", FutureWarning)\n",
      "/Users/charlottemoriarty/anaconda3/lib/python3.7/site-packages/sklearn/ensemble/forest.py:246: FutureWarning: The default value of n_estimators will change from 10 in version 0.20 to 100 in 0.22.\n",
      "  \"10 in version 0.20 to 100 in 0.22.\", FutureWarning)\n",
      "/Users/charlottemoriarty/anaconda3/lib/python3.7/site-packages/sklearn/utils/deprecation.py:125: FutureWarning: You are accessing a training score ('train_score'), which will not be available by default any more in 0.21. If you need training scores, please set return_train_score=True\n",
      "  warnings.warn(*warn_args, **warn_kwargs)\n"
     ]
    },
    {
     "data": {
      "image/png": "[encoded data removed]",
      "text/plain": [
       "<Figure size 432x288 with 1 Axes>"
      ]
     },
     "metadata": {
      "needs_background": "light"
     },
     "output_type": "display_data"
    }
   ],
   "source": [
    "#podział danych z wykorzystaniem cross_validate\n",
    "df = titanic_engineering(df_train)\n",
    "get_feats(df)\n",
    "\n",
    "X = df_train[get_feats(df_train)].values\n",
    "y = df_train[\"Survived\"].values\n",
    "\n",
    "for model_name, model in get_models():\n",
    "    result = cross_validate(model, X, y, scoring=\"accuracy\", cv=3)\n",
    "    print(model_name)\n",
    "    \n",
    "    plot_result(model_name, result)"
   ]
  },
  {
   "cell_type": "code",
   "execution_count": 39,
   "metadata": {},
   "outputs": [],
   "source": [
    "# predykcja przekazywanie modeli, zapisywanie wynikow\n",
    "def make_prediction(df_train, df_test, model, output_file_name):\n",
    "    train = titanic_engineering(df_train)\n",
    "    test = titanic_engineering(df_test)\n",
    "    \n",
    "    feats = get_feats(train)\n",
    "    \n",
    "    X_train = train[feats].values\n",
    "    y_train = train[\"Survived\"].values\n",
    "    X_test = test[feats]\n",
    "    \n",
    "    print(model)\n",
    "    model.fit(X_train, y_train)\n",
    "    \n",
    "    test[\"Survived\"] = model.predict(X_test)\n",
    "    test[[\"PassengerId\", \"Survived\"]].to_csv(\"../day2/output/\" + output_file_name, index=False)\n",
    "    \n"
   ]
  },
  {
   "cell_type": "markdown",
   "metadata": {},
   "source": [
    "###### Model linearny"
   ]
  },
  {
   "cell_type": "code",
   "execution_count": 40,
   "metadata": {},
   "outputs": [
    {
     "name": "stdout",
     "output_type": "stream",
     "text": [
      "LogisticRegression(C=1.0, class_weight=None, dual=False, fit_intercept=True,\n",
      "          intercept_scaling=1, max_iter=100, multi_class='warn',\n",
      "          n_jobs=None, penalty='l2', random_state=None, solver='warn',\n",
      "          tol=0.0001, verbose=0, warm_start=False)\n"
     ]
    },
    {
     "name": "stderr",
     "output_type": "stream",
     "text": [
      "/Users/charlottemoriarty/anaconda3/lib/python3.7/site-packages/sklearn/linear_model/logistic.py:433: FutureWarning: Default solver will be changed to 'lbfgs' in 0.22. Specify a solver to silence this warning.\n",
      "  FutureWarning)\n"
     ]
    }
   ],
   "source": [
    "make_prediction(df_train, df_test, LogisticRegression(),\"linear2.csv\")"
   ]
  },
  {
   "cell_type": "code",
   "execution_count": 41,
   "metadata": {},
   "outputs": [
    {
     "name": "stderr",
     "output_type": "stream",
     "text": [
      "/Users/charlottemoriarty/anaconda3/lib/python3.7/site-packages/sklearn/utils/deprecation.py:125: FutureWarning: You are accessing a training score ('train_score'), which will not be available by default any more in 0.21. If you need training scores, please set return_train_score=True\n",
      "  warnings.warn(*warn_args, **warn_kwargs)\n"
     ]
    },
    {
     "data": {
      "image/png": "[encoded data removed]",
      "text/plain": [
       "<Figure size 432x288 with 1 Axes>"
      ]
     },
     "metadata": {
      "needs_background": "light"
     },
     "output_type": "display_data"
    },
    {
     "name": "stderr",
     "output_type": "stream",
     "text": [
      "/Users/charlottemoriarty/anaconda3/lib/python3.7/site-packages/sklearn/utils/deprecation.py:125: FutureWarning: You are accessing a training score ('train_score'), which will not be available by default any more in 0.21. If you need training scores, please set return_train_score=True\n",
      "  warnings.warn(*warn_args, **warn_kwargs)\n"
     ]
    },
    {
     "data": {
      "image/png": "[encoded data removed]",
      "text/plain": [
       "<Figure size 432x288 with 1 Axes>"
      ]
     },
     "metadata": {
      "needs_background": "light"
     },
     "output_type": "display_data"
    },
    {
     "name": "stderr",
     "output_type": "stream",
     "text": [
      "/Users/charlottemoriarty/anaconda3/lib/python3.7/site-packages/sklearn/utils/deprecation.py:125: FutureWarning: You are accessing a training score ('train_score'), which will not be available by default any more in 0.21. If you need training scores, please set return_train_score=True\n",
      "  warnings.warn(*warn_args, **warn_kwargs)\n"
     ]
    },
    {
     "data": {
      "image/png": "[encoded data removed]",
      "text/plain": [
       "<Figure size 432x288 with 1 Axes>"
      ]
     },
     "metadata": {
      "needs_background": "light"
     },
     "output_type": "display_data"
    },
    {
     "name": "stderr",
     "output_type": "stream",
     "text": [
      "/Users/charlottemoriarty/anaconda3/lib/python3.7/site-packages/sklearn/utils/deprecation.py:125: FutureWarning: You are accessing a training score ('train_score'), which will not be available by default any more in 0.21. If you need training scores, please set return_train_score=True\n",
      "  warnings.warn(*warn_args, **warn_kwargs)\n"
     ]
    },
    {
     "data": {
      "image/png": "[encoded data removed]",
      "text/plain": [
       "<Figure size 432x288 with 1 Axes>"
      ]
     },
     "metadata": {
      "needs_background": "light"
     },
     "output_type": "display_data"
    }
   ],
   "source": [
    "#model ze zmienną głębokość i stałą ilość drzew\n",
    "for max_depth in range(2,10,2):\n",
    "    model = RandomForestClassifier(max_depth=max_depth, n_estimators=15)\n",
    "    result = cross_validate(model, X, y, scoring=\"accuracy\", cv=3)\n",
    "    plot_result(\"Decision Tree: max_depth=%s\" % max_depth, result)\n"
   ]
  },
  {
   "cell_type": "code",
   "execution_count": 42,
   "metadata": {},
   "outputs": [
    {
     "name": "stderr",
     "output_type": "stream",
     "text": [
      "/Users/charlottemoriarty/anaconda3/lib/python3.7/site-packages/sklearn/utils/deprecation.py:125: FutureWarning: You are accessing a training score ('train_score'), which will not be available by default any more in 0.21. If you need training scores, please set return_train_score=True\n",
      "  warnings.warn(*warn_args, **warn_kwargs)\n"
     ]
    },
    {
     "data": {
      "image/png": "[encoded data removed]",
      "text/plain": [
       "<Figure size 432x288 with 1 Axes>"
      ]
     },
     "metadata": {
      "needs_background": "light"
     },
     "output_type": "display_data"
    },
    {
     "name": "stderr",
     "output_type": "stream",
     "text": [
      "/Users/charlottemoriarty/anaconda3/lib/python3.7/site-packages/sklearn/utils/deprecation.py:125: FutureWarning: You are accessing a training score ('train_score'), which will not be available by default any more in 0.21. If you need training scores, please set return_train_score=True\n",
      "  warnings.warn(*warn_args, **warn_kwargs)\n"
     ]
    },
    {
     "data": {
      "image/png": "[encoded data removed]",
      "text/plain": [
       "<Figure size 432x288 with 1 Axes>"
      ]
     },
     "metadata": {
      "needs_background": "light"
     },
     "output_type": "display_data"
    },
    {
     "name": "stderr",
     "output_type": "stream",
     "text": [
      "/Users/charlottemoriarty/anaconda3/lib/python3.7/site-packages/sklearn/utils/deprecation.py:125: FutureWarning: You are accessing a training score ('train_score'), which will not be available by default any more in 0.21. If you need training scores, please set return_train_score=True\n",
      "  warnings.warn(*warn_args, **warn_kwargs)\n"
     ]
    },
    {
     "data": {
      "image/png": "[encoded data removed]",
      "text/plain": [
       "<Figure size 432x288 with 1 Axes>"
      ]
     },
     "metadata": {
      "needs_background": "light"
     },
     "output_type": "display_data"
    }
   ],
   "source": [
    "# sprawdzanie wyników co jeden\n",
    "\n",
    "for max_depth in range(3,6,1):\n",
    "    model = RandomForestClassifier(max_depth=max_depth, n_estimators=15)\n",
    "    result = cross_validate(model, X, y, scoring=\"accuracy\", cv=3)\n",
    "    plot_result(\"Decision Tree: max_depth=%s\" % max_depth, result)\n",
    "\n",
    "\n"
   ]
  },
  {
   "cell_type": "code",
   "execution_count": 43,
   "metadata": {},
   "outputs": [
    {
     "name": "stdout",
     "output_type": "stream",
     "text": [
      "RandomForestClassifier(bootstrap=True, class_weight=None, criterion='gini',\n",
      "            max_depth=3, max_features='auto', max_leaf_nodes=None,\n",
      "            min_impurity_decrease=0.0, min_impurity_split=None,\n",
      "            min_samples_leaf=1, min_samples_split=2,\n",
      "            min_weight_fraction_leaf=0.0, n_estimators=15, n_jobs=None,\n",
      "            oob_score=False, random_state=2019, verbose=0,\n",
      "            warm_start=False)\n"
     ]
    }
   ],
   "source": [
    "model = RandomForestClassifier(max_depth=3, n_estimators=15, random_state=2019)\n",
    "make_prediction(df_train, df_test, model, \"rf_md3_ne15.csv\")"
   ]
  },
  {
   "cell_type": "code",
   "execution_count": 44,
   "metadata": {},
   "outputs": [
    {
     "name": "stdout",
     "output_type": "stream",
     "text": [
      "(891, 14)\n",
      "(418, 14)\n",
      "(1309, 12)\n"
     ]
    }
   ],
   "source": [
    "# wydruk dla połączenia df_train i df_test //TEST\n",
    "print(df_train.shape)\n",
    "print(df_test.shape)\n",
    "print(df_all.shape)"
   ]
  },
  {
   "cell_type": "code",
   "execution_count": 46,
   "metadata": {},
   "outputs": [
    {
     "data": {
      "text/plain": [
       "0          mr\n",
       "1         mrs\n",
       "2        miss\n",
       "3         mrs\n",
       "4          mr\n",
       "5          mr\n",
       "6          mr\n",
       "7      master\n",
       "8         mrs\n",
       "9         mrs\n",
       "10       miss\n",
       "11       miss\n",
       "12         mr\n",
       "13         mr\n",
       "14       miss\n",
       "15        mrs\n",
       "16     master\n",
       "17         mr\n",
       "18        mrs\n",
       "19        mrs\n",
       "20         mr\n",
       "21         mr\n",
       "22       miss\n",
       "23         mr\n",
       "24       miss\n",
       "25        mrs\n",
       "26         mr\n",
       "27         mr\n",
       "28       miss\n",
       "29         mr\n",
       "        ...  \n",
       "861        mr\n",
       "862       mrs\n",
       "863      miss\n",
       "864        mr\n",
       "865       mrs\n",
       "866      miss\n",
       "867        mr\n",
       "868        mr\n",
       "869    master\n",
       "870        mr\n",
       "871       mrs\n",
       "872        mr\n",
       "873        mr\n",
       "874       mrs\n",
       "875      miss\n",
       "876        mr\n",
       "877        mr\n",
       "878        mr\n",
       "879       mrs\n",
       "880       mrs\n",
       "881        mr\n",
       "882      miss\n",
       "883        mr\n",
       "884        mr\n",
       "885       mrs\n",
       "886       rev\n",
       "887      miss\n",
       "888      miss\n",
       "889        mr\n",
       "890        mr\n",
       "Name: Name, Length: 891, dtype: object"
      ]
     },
     "execution_count": 46,
     "metadata": {},
     "output_type": "execute_result"
    }
   ],
   "source": [
    "# map z lambda pobierajace jedną wartość i zwracające jedną split dla index 1 dla przecinka i dla index 0 dla kropki zmiana na małą literę i wyciecie spacji\n",
    "\n",
    "df_train[\"Name\"].map(lambda x: x.split(',')[1].split(\".\")[0].lower().strip())"
   ]
  },
  {
   "cell_type": "code",
   "execution_count": 47,
   "metadata": {},
   "outputs": [
    {
     "data": {
      "text/plain": [
       " mr        240\n",
       " miss       78\n",
       " mrs        72\n",
       " master     21\n",
       " rev         2\n",
       " col         2\n",
       " ms          1\n",
       " dona        1\n",
       " dr          1\n",
       "Name: Name, dtype: int64"
      ]
     },
     "execution_count": 47,
     "metadata": {},
     "output_type": "execute_result"
    }
   ],
   "source": [
    "# rozkład tytułów z wykorzystaniem map\n",
    "df_test[\"Name\"].map(lambda x: x.split(\",\")[1].split(\".\")[0].lower()).value_counts()"
   ]
  },
  {
   "cell_type": "code",
   "execution_count": 49,
   "metadata": {},
   "outputs": [
    {
     "data": {
      "text/plain": [
       "0        male\n",
       "1      female\n",
       "2        male\n",
       "3        male\n",
       "4      female\n",
       "5        male\n",
       "6      female\n",
       "7        male\n",
       "8      female\n",
       "9        male\n",
       "10       male\n",
       "11       male\n",
       "12     female\n",
       "13       male\n",
       "14     female\n",
       "15     female\n",
       "16       male\n",
       "17       male\n",
       "18     female\n",
       "19     female\n",
       "20       male\n",
       "21       male\n",
       "22     female\n",
       "23       male\n",
       "24     female\n",
       "25       male\n",
       "26     female\n",
       "27       male\n",
       "28       male\n",
       "29       male\n",
       "        ...  \n",
       "388      male\n",
       "389      male\n",
       "390      male\n",
       "391    female\n",
       "392      male\n",
       "393      male\n",
       "394      male\n",
       "395    female\n",
       "396      male\n",
       "397    female\n",
       "398      male\n",
       "399      male\n",
       "400    female\n",
       "401      male\n",
       "402    female\n",
       "403      male\n",
       "404      male\n",
       "405      male\n",
       "406      male\n",
       "407      male\n",
       "408    female\n",
       "409    female\n",
       "410    female\n",
       "411    female\n",
       "412    female\n",
       "413      male\n",
       "414    female\n",
       "415      male\n",
       "416      male\n",
       "417      male\n",
       "Name: Sex, Length: 418, dtype: object"
      ]
     },
     "execution_count": 49,
     "metadata": {},
     "output_type": "execute_result"
    }
   ],
   "source": [
    "df_test[\"Sex\"]"
   ]
  },
  {
   "cell_type": "code",
   "execution_count": 51,
   "metadata": {},
   "outputs": [
    {
     "data": {
      "text/plain": [
       "male      266\n",
       "female    152\n",
       "Name: Sex, dtype: int64"
      ]
     },
     "execution_count": 51,
     "metadata": {},
     "output_type": "execute_result"
    }
   ],
   "source": [
    "df_test[\"Sex\"].value_counts()"
   ]
  },
  {
   "cell_type": "code",
   "execution_count": 53,
   "metadata": {},
   "outputs": [
    {
     "data": {
      "text/plain": [
       "0    283\n",
       "1    110\n",
       "2     14\n",
       "4      4\n",
       "3      4\n",
       "8      2\n",
       "5      1\n",
       "Name: SibSp, dtype: int64"
      ]
     },
     "execution_count": 53,
     "metadata": {},
     "output_type": "execute_result"
    }
   ],
   "source": [
    "df_test[\"SibSp\"].value_counts()"
   ]
  },
  {
   "cell_type": "code",
   "execution_count": 54,
   "metadata": {},
   "outputs": [
    {
     "data": {
      "text/plain": [
       "0        male\n",
       "1      female\n",
       "2      female\n",
       "3      female\n",
       "4        male\n",
       "5        male\n",
       "6        male\n",
       "7        male\n",
       "8      female\n",
       "9      female\n",
       "10     female\n",
       "11     female\n",
       "12       male\n",
       "13       male\n",
       "14     female\n",
       "15     female\n",
       "16       male\n",
       "17       male\n",
       "18     female\n",
       "19     female\n",
       "20       male\n",
       "21       male\n",
       "22     female\n",
       "23       male\n",
       "24     female\n",
       "25     female\n",
       "26       male\n",
       "27       male\n",
       "28     female\n",
       "29       male\n",
       "        ...  \n",
       "861      male\n",
       "862    female\n",
       "863    female\n",
       "864      male\n",
       "865    female\n",
       "866    female\n",
       "867      male\n",
       "868      male\n",
       "869      male\n",
       "870      male\n",
       "871    female\n",
       "872      male\n",
       "873      male\n",
       "874    female\n",
       "875    female\n",
       "876      male\n",
       "877      male\n",
       "878      male\n",
       "879    female\n",
       "880    female\n",
       "881      male\n",
       "882    female\n",
       "883      male\n",
       "884      male\n",
       "885    female\n",
       "886      male\n",
       "887    female\n",
       "888    female\n",
       "889      male\n",
       "890      male\n",
       "Name: Sex, Length: 891, dtype: object"
      ]
     },
     "execution_count": 54,
     "metadata": {},
     "output_type": "execute_result"
    }
   ],
   "source": [
    "df_train[\"Sex\"]"
   ]
  },
  {
   "cell_type": "code",
   "execution_count": 55,
   "metadata": {},
   "outputs": [
    {
     "data": {
      "text/plain": [
       " mr              757\n",
       " miss            260\n",
       " mrs             197\n",
       " master           61\n",
       " rev               8\n",
       " dr                8\n",
       " col               4\n",
       " major             2\n",
       " mlle              2\n",
       " ms                2\n",
       " dona              1\n",
       " lady              1\n",
       " mme               1\n",
       " jonkheer          1\n",
       " sir               1\n",
       " don               1\n",
       " the countess      1\n",
       " capt              1\n",
       "Name: Name, dtype: int64"
      ]
     },
     "execution_count": 55,
     "metadata": {},
     "output_type": "execute_result"
    }
   ],
   "source": [
    "# łączenie wyników\n",
    "df_all[\"Name\"].map(lambda x: x.split(\",\")[1].split(\".\")[0].lower()).value_counts()"
   ]
  },
  {
   "cell_type": "code",
   "execution_count": 57,
   "metadata": {},
   "outputs": [],
   "source": [
    "# df_all[\"Name\"]"
   ]
  },
  {
   "cell_type": "code",
   "execution_count": 60,
   "metadata": {},
   "outputs": [
    {
     "data": {
      "text/plain": [
       "mr        757\n",
       "miss      260\n",
       "mrs       197\n",
       "master     61\n",
       "other      34\n",
       "Name: Name, dtype: int64"
      ]
     },
     "execution_count": 60,
     "metadata": {},
     "output_type": "execute_result"
    }
   ],
   "source": [
    "# przypisywanie wartości liczbowych dla najpopularniejszych tytułów oraz\n",
    "# utworzenie other dla mniej popularnych\n",
    "# popular_titles = [\"mr\", \"mrs\", \"miss\", \"master\", \"dr\", \"rev\"]\n",
    "popular_titles = [\"mr\", \"mrs\", \"miss\", \"master\"]\n",
    "df_all[\"Name\"].map(lambda x: x.split(\",\")[1].split(\".\")[0].lower().strip()).map(lambda x: x if x\n",
    " in popular_titles else \"other\").value_counts()"
   ]
  },
  {
   "cell_type": "code",
   "execution_count": 63,
   "metadata": {},
   "outputs": [],
   "source": [
    "def feature_title(df):\n",
    "    df[\"title\"] = df[\"Name\"].map(lambda x: x.split(\",\")[1].split(\".\")[0].lower().strip())\n",
    "    popular_titles = [\"mr\", \"mrs\", \"miss\", \"master\"]\n",
    "    df[\"title_norm\"] = df[\"title\"].map(lambda x: x if x in popular_titles else \"other\")\n",
    "    df[\"title_norm_cat\"] = pd.factorize(df[\"title_norm\"])[0]\n",
    "     \n",
    "    return df"
   ]
  },
  {
   "cell_type": "code",
   "execution_count": 64,
   "metadata": {},
   "outputs": [
    {
     "data": {
      "text/plain": [
       "mr        757\n",
       "miss      260\n",
       "mrs       197\n",
       "master     61\n",
       "other      34\n",
       "Name: title_norm, dtype: int64"
      ]
     },
     "execution_count": 64,
     "metadata": {},
     "output_type": "execute_result"
    }
   ],
   "source": [
    "df = feature_title(df_all)\n",
    "df[\"title_norm\"].value_counts()"
   ]
  },
  {
   "cell_type": "markdown",
   "metadata": {},
   "source": [
    "###### cabin"
   ]
  },
  {
   "cell_type": "code",
   "execution_count": 66,
   "metadata": {},
   "outputs": [
    {
     "data": {
      "text/plain": [
       "0              NaN\n",
       "1              C85\n",
       "2              NaN\n",
       "3             C123\n",
       "4              NaN\n",
       "5              NaN\n",
       "6              E46\n",
       "7              NaN\n",
       "8              NaN\n",
       "9              NaN\n",
       "10              G6\n",
       "11            C103\n",
       "12             NaN\n",
       "13             NaN\n",
       "14             NaN\n",
       "15             NaN\n",
       "16             NaN\n",
       "17             NaN\n",
       "18             NaN\n",
       "19             NaN\n",
       "20             NaN\n",
       "21             D56\n",
       "22             NaN\n",
       "23              A6\n",
       "24             NaN\n",
       "25             NaN\n",
       "26             NaN\n",
       "27     C23 C25 C27\n",
       "28             NaN\n",
       "29             NaN\n",
       "          ...     \n",
       "388            NaN\n",
       "389            NaN\n",
       "390            B24\n",
       "391            D28\n",
       "392            NaN\n",
       "393            NaN\n",
       "394            NaN\n",
       "395            C31\n",
       "396            NaN\n",
       "397            B41\n",
       "398            NaN\n",
       "399            NaN\n",
       "400             C7\n",
       "401            NaN\n",
       "402            NaN\n",
       "403            NaN\n",
       "404            D40\n",
       "405            D38\n",
       "406            NaN\n",
       "407            C80\n",
       "408            NaN\n",
       "409            NaN\n",
       "410            NaN\n",
       "411            C78\n",
       "412            NaN\n",
       "413            NaN\n",
       "414           C105\n",
       "415            NaN\n",
       "416            NaN\n",
       "417            NaN\n",
       "Name: Cabin, Length: 1309, dtype: object"
      ]
     },
     "execution_count": 66,
     "metadata": {},
     "output_type": "execute_result"
    }
   ],
   "source": [
    "df_all[\"Cabin\"]"
   ]
  },
  {
   "cell_type": "code",
   "execution_count": 65,
   "metadata": {},
   "outputs": [
    {
     "data": {
      "text/plain": [
       "missing    1014\n",
       "C            94\n",
       "B            65\n",
       "D            46\n",
       "E            41\n",
       "A            22\n",
       "F            21\n",
       "G             5\n",
       "T             1\n",
       "Name: Cabin, dtype: int64"
      ]
     },
     "execution_count": 65,
     "metadata": {},
     "output_type": "execute_result"
    }
   ],
   "source": [
    "df_all[\"Cabin\"].map(lambda x: \"missing\" if str(x) ==\"nan\" else x[0]).value_counts()"
   ]
  },
  {
   "cell_type": "markdown",
   "metadata": {},
   "source": [
    "###### Family relationships"
   ]
  },
  {
   "cell_type": "code",
   "execution_count": 68,
   "metadata": {},
   "outputs": [
    {
     "data": {
      "text/plain": [
       "0     790\n",
       "1     235\n",
       "2     159\n",
       "3      43\n",
       "5      25\n",
       "4      22\n",
       "6      16\n",
       "10     11\n",
       "7       8\n",
       "dtype: int64"
      ]
     },
     "execution_count": 68,
     "metadata": {},
     "output_type": "execute_result"
    }
   ],
   "source": [
    "df_all.apply(lambda x: x[\"Parch\"] + x[\"SibSp\"], axis=1).value_counts()"
   ]
  },
  {
   "cell_type": "markdown",
   "metadata": {},
   "source": [
    "###### Age"
   ]
  },
  {
   "cell_type": "code",
   "execution_count": 69,
   "metadata": {},
   "outputs": [
    {
     "name": "stdout",
     "output_type": "stream",
     "text": [
      "(1309, 15)\n"
     ]
    }
   ],
   "source": [
    "print(df_all.shape)"
   ]
  },
  {
   "cell_type": "code",
   "execution_count": 70,
   "metadata": {},
   "outputs": [
    {
     "data": {
      "text/plain": [
       "count    1046.000000\n",
       "mean       29.881138\n",
       "std        14.413493\n",
       "min         0.170000\n",
       "25%        21.000000\n",
       "50%        28.000000\n",
       "75%        39.000000\n",
       "max        80.000000\n",
       "Name: Age, dtype: float64"
      ]
     },
     "execution_count": 70,
     "metadata": {},
     "output_type": "execute_result"
    }
   ],
   "source": [
    "df_all.Age.describe()"
   ]
  },
  {
   "cell_type": "code",
   "execution_count": 72,
   "metadata": {},
   "outputs": [
    {
     "data": {
      "text/html": [
       "<div>\n",
       "<style scoped>\n",
       "    .dataframe tbody tr th:only-of-type {\n",
       "        vertical-align: middle;\n",
       "    }\n",
       "\n",
       "    .dataframe tbody tr th {\n",
       "        vertical-align: top;\n",
       "    }\n",
       "\n",
       "    .dataframe thead th {\n",
       "        text-align: right;\n",
       "    }\n",
       "</style>\n",
       "<table border=\"1\" class=\"dataframe\">\n",
       "  <thead>\n",
       "    <tr style=\"text-align: right;\">\n",
       "      <th></th>\n",
       "      <th>mean</th>\n",
       "      <th>median</th>\n",
       "    </tr>\n",
       "    <tr>\n",
       "      <th>title_norm</th>\n",
       "      <th></th>\n",
       "      <th></th>\n",
       "    </tr>\n",
       "  </thead>\n",
       "  <tbody>\n",
       "    <tr>\n",
       "      <th>master</th>\n",
       "      <td>5.482642</td>\n",
       "      <td>4.0</td>\n",
       "    </tr>\n",
       "    <tr>\n",
       "      <th>miss</th>\n",
       "      <td>21.774238</td>\n",
       "      <td>22.0</td>\n",
       "    </tr>\n",
       "    <tr>\n",
       "      <th>mr</th>\n",
       "      <td>32.252151</td>\n",
       "      <td>29.0</td>\n",
       "    </tr>\n",
       "    <tr>\n",
       "      <th>mrs</th>\n",
       "      <td>36.994118</td>\n",
       "      <td>35.5</td>\n",
       "    </tr>\n",
       "    <tr>\n",
       "      <th>other</th>\n",
       "      <td>42.656250</td>\n",
       "      <td>44.5</td>\n",
       "    </tr>\n",
       "  </tbody>\n",
       "</table>\n",
       "</div>"
      ],
      "text/plain": [
       "                 mean  median\n",
       "title_norm                   \n",
       "master       5.482642     4.0\n",
       "miss        21.774238    22.0\n",
       "mr          32.252151    29.0\n",
       "mrs         36.994118    35.5\n",
       "other       42.656250    44.5"
      ]
     },
     "execution_count": 72,
     "metadata": {},
     "output_type": "execute_result"
    }
   ],
   "source": [
    "# uzupełnianie brakujących danych\n",
    "# wartości średnie\n",
    "df = feature_title(df_all)\n",
    "df.groupby(\"title_norm\")[\"Age\"].agg([np.mean, np.median])"
   ]
  },
  {
   "cell_type": "code",
   "execution_count": 76,
   "metadata": {},
   "outputs": [],
   "source": [
    "\n",
    "df = feature_title(df_all)\n",
    "missing_ages = df.groupby('title_norm')['Age'].agg([np.mean, np.median]).to_dict()['median']\n",
    "df['Age'] = df.apply( lambda x: x['Age'] if str(x['Age']) != 'nan' else missing_ages[x['title_norm']], axis=1 )"
   ]
  },
  {
   "cell_type": "code",
   "execution_count": 77,
   "metadata": {},
   "outputs": [
    {
     "data": {
      "text/plain": [
       "(20, 40]     824\n",
       "(40, 60]     196\n",
       "(15, 20]     133\n",
       "(9, 15]       33\n",
       "(60, 100]     33\n",
       "(5, 9]        26\n",
       "(3, 5]        23\n",
       "(0, 1]        22\n",
       "(1, 3]        19\n",
       "Name: Age, dtype: int64"
      ]
     },
     "execution_count": 77,
     "metadata": {},
     "output_type": "execute_result"
    }
   ],
   "source": [
    "age_bins = [0,1,3,5,9,15,20,40,60,100]\n",
    "pd.cut(df[\"Age\"], bins=age_bins).astype(object).value_counts()"
   ]
  },
  {
   "cell_type": "markdown",
   "metadata": {},
   "source": [
    "###### Fare"
   ]
  },
  {
   "cell_type": "code",
   "execution_count": 79,
   "metadata": {},
   "outputs": [
    {
     "name": "stdout",
     "output_type": "stream",
     "text": [
      "(1309, 15)\n"
     ]
    },
    {
     "data": {
      "text/plain": [
       "count    1308.000000\n",
       "mean       33.295479\n",
       "std        51.758668\n",
       "min         0.000000\n",
       "25%         7.895800\n",
       "50%        14.454200\n",
       "75%        31.275000\n",
       "max       512.329200\n",
       "Name: Fare, dtype: float64"
      ]
     },
     "execution_count": 79,
     "metadata": {},
     "output_type": "execute_result"
    }
   ],
   "source": [
    "# wyliczanie cen biletów\n",
    "print(df_all.shape)\n",
    "df_all[\"Fare\"].describe()"
   ]
  },
  {
   "cell_type": "code",
   "execution_count": 80,
   "metadata": {},
   "outputs": [
    {
     "data": {
      "image/png": "[encoded data removed]",
      "text/plain": [
       "<Figure size 432x288 with 1 Axes>"
      ]
     },
     "metadata": {
      "needs_background": "light"
     },
     "output_type": "display_data"
    }
   ],
   "source": [
    "df_all[\"Fare\"].hist(bins=100);"
   ]
  },
  {
   "cell_type": "code",
   "execution_count": 81,
   "metadata": {},
   "outputs": [
    {
     "data": {
      "text/plain": [
       "<matplotlib.axes._subplots.AxesSubplot at 0x1a1e9a1c88>"
      ]
     },
     "execution_count": 81,
     "metadata": {},
     "output_type": "execute_result"
    },
    {
     "data": {
      "image/png": "[encoded data removed]",
      "text/plain": [
       "<Figure size 432x288 with 1 Axes>"
      ]
     },
     "metadata": {
      "needs_background": "light"
     },
     "output_type": "display_data"
    }
   ],
   "source": [
    "#normalizajca  wykresu przez logarytm \n",
    "np.log2(df_all[\"Fare\"] + 1).hist(bins=100)"
   ]
  },
  {
   "cell_type": "markdown",
   "metadata": {},
   "source": [
    "###### Cabin"
   ]
  },
  {
   "cell_type": "code",
   "execution_count": 84,
   "metadata": {},
   "outputs": [
    {
     "data": {
      "text/plain": [
       "missing    1014\n",
       "C            94\n",
       "B            65\n",
       "D            46\n",
       "E            41\n",
       "A            22\n",
       "F            21\n",
       "G             5\n",
       "T             1\n",
       "Name: cabin_norm, dtype: int64"
      ]
     },
     "execution_count": 84,
     "metadata": {},
     "output_type": "execute_result"
    }
   ],
   "source": [
    "df = df_all.copy()\n",
    "df[\"Cabin\"].unique()\n",
    "df[\"cabin_norm\"] = df[\"Cabin\"].map(lambda x: \"missing\" if str(x) == \"nan\" else x[0])\n",
    "\n",
    "df.cabin_norm.value_counts()"
   ]
  },
  {
   "cell_type": "code",
   "execution_count": 92,
   "metadata": {},
   "outputs": [],
   "source": [
    "def titanic_engineering(df):\n",
    "    df['sex_cat'] = pd.factorize( df['Sex'] )[0]\n",
    "    df['embarked_cat'] = pd.factorize( df['Embarked'] )[0]\n",
    "    \n",
    "    df = feature_title(df)\n",
    "    \n",
    "    df['cabin_norm'] = df['Cabin'].map(lambda x: 'missing' if str(x) == 'nan' else x[0] )\n",
    "    df['cabin_norm_cat'] = pd.factorize( df['cabin_norm'] )[0]\n",
    "    df['family_size'] = df.apply(lambda x: x['Parch'] + x['SibSp'], axis=1)\n",
    "    df[\"single\"] = df[\"family_size\"].apply(lambda x: 1 if x == 0 else 0)\n",
    "    df['fare_log'] = np.log2( df['Fare'] + 1 )\n",
    "    \n",
    "    missing_ages = df.groupby('title_norm')['Age'].agg([np.mean, np.median]).to_dict()['median']\n",
    "    df['Age'] = df.apply( lambda x: x['Age'] if str(x['Age']) != 'nan' else missing_ages[x['title_norm']], axis=1 )\n",
    "    \n",
    "    age_bins = [0, 1, 3, 5, 9, 15, 20, 40, 60, 100]\n",
    "    df['age_bin'] = pd.factorize( pd.cut(df[\"Age\"], bins=age_bins).astype(object) )[0]\n",
    "\n",
    "    return df\n",
    "    \n",
    "    "
   ]
  },
  {
   "cell_type": "code",
   "execution_count": 93,
   "metadata": {},
   "outputs": [
    {
     "name": "stdout",
     "output_type": "stream",
     "text": [
      "['Parch', 'Pclass', 'SibSp', 'title_norm_cat', 'sex_cat', 'embarked_cat', 'cabin_norm_cat', 'family_size', 'single', 'age_bin']\n"
     ]
    },
    {
     "name": "stderr",
     "output_type": "stream",
     "text": [
      "/Users/charlottemoriarty/anaconda3/lib/python3.7/site-packages/sklearn/linear_model/logistic.py:433: FutureWarning: Default solver will be changed to 'lbfgs' in 0.22. Specify a solver to silence this warning.\n",
      "  FutureWarning)\n",
      "/Users/charlottemoriarty/anaconda3/lib/python3.7/site-packages/sklearn/linear_model/logistic.py:433: FutureWarning: Default solver will be changed to 'lbfgs' in 0.22. Specify a solver to silence this warning.\n",
      "  FutureWarning)\n",
      "/Users/charlottemoriarty/anaconda3/lib/python3.7/site-packages/sklearn/linear_model/logistic.py:433: FutureWarning: Default solver will be changed to 'lbfgs' in 0.22. Specify a solver to silence this warning.\n",
      "  FutureWarning)\n",
      "/Users/charlottemoriarty/anaconda3/lib/python3.7/site-packages/sklearn/utils/deprecation.py:125: FutureWarning: You are accessing a training score ('train_score'), which will not be available by default any more in 0.21. If you need training scores, please set return_train_score=True\n",
      "  warnings.warn(*warn_args, **warn_kwargs)\n"
     ]
    },
    {
     "name": "stdout",
     "output_type": "stream",
     "text": [
      "lr\n"
     ]
    },
    {
     "data": {
      "image/png": "[encoded data removed]",
      "text/plain": [
       "<Figure size 432x288 with 1 Axes>"
      ]
     },
     "metadata": {
      "needs_background": "light"
     },
     "output_type": "display_data"
    },
    {
     "name": "stdout",
     "output_type": "stream",
     "text": [
      "dt\n"
     ]
    },
    {
     "name": "stderr",
     "output_type": "stream",
     "text": [
      "/Users/charlottemoriarty/anaconda3/lib/python3.7/site-packages/sklearn/utils/deprecation.py:125: FutureWarning: You are accessing a training score ('train_score'), which will not be available by default any more in 0.21. If you need training scores, please set return_train_score=True\n",
      "  warnings.warn(*warn_args, **warn_kwargs)\n"
     ]
    },
    {
     "data": {
      "image/png": "[encoded data removed]",
      "text/plain": [
       "<Figure size 432x288 with 1 Axes>"
      ]
     },
     "metadata": {
      "needs_background": "light"
     },
     "output_type": "display_data"
    },
    {
     "name": "stderr",
     "output_type": "stream",
     "text": [
      "/Users/charlottemoriarty/anaconda3/lib/python3.7/site-packages/sklearn/ensemble/forest.py:246: FutureWarning: The default value of n_estimators will change from 10 in version 0.20 to 100 in 0.22.\n",
      "  \"10 in version 0.20 to 100 in 0.22.\", FutureWarning)\n",
      "/Users/charlottemoriarty/anaconda3/lib/python3.7/site-packages/sklearn/ensemble/forest.py:246: FutureWarning: The default value of n_estimators will change from 10 in version 0.20 to 100 in 0.22.\n",
      "  \"10 in version 0.20 to 100 in 0.22.\", FutureWarning)\n"
     ]
    },
    {
     "name": "stdout",
     "output_type": "stream",
     "text": [
      "rf\n"
     ]
    },
    {
     "name": "stderr",
     "output_type": "stream",
     "text": [
      "/Users/charlottemoriarty/anaconda3/lib/python3.7/site-packages/sklearn/ensemble/forest.py:246: FutureWarning: The default value of n_estimators will change from 10 in version 0.20 to 100 in 0.22.\n",
      "  \"10 in version 0.20 to 100 in 0.22.\", FutureWarning)\n",
      "/Users/charlottemoriarty/anaconda3/lib/python3.7/site-packages/sklearn/utils/deprecation.py:125: FutureWarning: You are accessing a training score ('train_score'), which will not be available by default any more in 0.21. If you need training scores, please set return_train_score=True\n",
      "  warnings.warn(*warn_args, **warn_kwargs)\n"
     ]
    },
    {
     "data": {
      "image/png": "[encoded data removed]",
      "text/plain": [
       "<Figure size 432x288 with 1 Axes>"
      ]
     },
     "metadata": {
      "needs_background": "light"
     },
     "output_type": "display_data"
    },
    {
     "name": "stderr",
     "output_type": "stream",
     "text": [
      "/Users/charlottemoriarty/anaconda3/lib/python3.7/site-packages/sklearn/ensemble/forest.py:246: FutureWarning: The default value of n_estimators will change from 10 in version 0.20 to 100 in 0.22.\n",
      "  \"10 in version 0.20 to 100 in 0.22.\", FutureWarning)\n",
      "/Users/charlottemoriarty/anaconda3/lib/python3.7/site-packages/sklearn/ensemble/forest.py:246: FutureWarning: The default value of n_estimators will change from 10 in version 0.20 to 100 in 0.22.\n",
      "  \"10 in version 0.20 to 100 in 0.22.\", FutureWarning)\n",
      "/Users/charlottemoriarty/anaconda3/lib/python3.7/site-packages/sklearn/ensemble/forest.py:246: FutureWarning: The default value of n_estimators will change from 10 in version 0.20 to 100 in 0.22.\n",
      "  \"10 in version 0.20 to 100 in 0.22.\", FutureWarning)\n"
     ]
    },
    {
     "name": "stdout",
     "output_type": "stream",
     "text": [
      "et\n"
     ]
    },
    {
     "name": "stderr",
     "output_type": "stream",
     "text": [
      "/Users/charlottemoriarty/anaconda3/lib/python3.7/site-packages/sklearn/utils/deprecation.py:125: FutureWarning: You are accessing a training score ('train_score'), which will not be available by default any more in 0.21. If you need training scores, please set return_train_score=True\n",
      "  warnings.warn(*warn_args, **warn_kwargs)\n"
     ]
    },
    {
     "data": {
      "image/png": "[encoded data removed]",
      "text/plain": [
       "<Figure size 432x288 with 1 Axes>"
      ]
     },
     "metadata": {
      "needs_background": "light"
     },
     "output_type": "display_data"
    }
   ],
   "source": [
    "df = titanic_engineering(df_all)\n",
    "feats = get_feats(df)\n",
    "print(feats)\n",
    "\n",
    "train = df[ ~df.Survived.isnull() ]\n",
    "\n",
    "X = train[ feats ].values\n",
    "y = train[ 'Survived' ].values\n",
    "\n",
    "for model_name, model in get_models():\n",
    "    result = cross_validate(model, X, y, scoring='accuracy', cv=3)\n",
    "    print(model_name)\n",
    "\n",
    "    plot_result(model_name, result)"
   ]
  },
  {
   "cell_type": "code",
   "execution_count": 99,
   "metadata": {},
   "outputs": [
    {
     "name": "stderr",
     "output_type": "stream",
     "text": [
      "/Users/charlottemoriarty/anaconda3/lib/python3.7/site-packages/sklearn/utils/deprecation.py:125: FutureWarning: You are accessing a training score ('train_score'), which will not be available by default any more in 0.21. If you need training scores, please set return_train_score=True\n",
      "  warnings.warn(*warn_args, **warn_kwargs)\n"
     ]
    },
    {
     "data": {
      "image/png": "[encoded data removed]",
      "text/plain": [
       "<Figure size 432x288 with 1 Axes>"
      ]
     },
     "metadata": {
      "needs_background": "light"
     },
     "output_type": "display_data"
    },
    {
     "name": "stderr",
     "output_type": "stream",
     "text": [
      "/Users/charlottemoriarty/anaconda3/lib/python3.7/site-packages/sklearn/utils/deprecation.py:125: FutureWarning: You are accessing a training score ('train_score'), which will not be available by default any more in 0.21. If you need training scores, please set return_train_score=True\n",
      "  warnings.warn(*warn_args, **warn_kwargs)\n"
     ]
    },
    {
     "data": {
      "image/png": "[encoded data removed]",
      "text/plain": [
       "<Figure size 432x288 with 1 Axes>"
      ]
     },
     "metadata": {
      "needs_background": "light"
     },
     "output_type": "display_data"
    },
    {
     "name": "stderr",
     "output_type": "stream",
     "text": [
      "/Users/charlottemoriarty/anaconda3/lib/python3.7/site-packages/sklearn/utils/deprecation.py:125: FutureWarning: You are accessing a training score ('train_score'), which will not be available by default any more in 0.21. If you need training scores, please set return_train_score=True\n",
      "  warnings.warn(*warn_args, **warn_kwargs)\n"
     ]
    },
    {
     "data": {
      "image/png": "[encoded data removed]",
      "text/plain": [
       "<Figure size 432x288 with 1 Axes>"
      ]
     },
     "metadata": {
      "needs_background": "light"
     },
     "output_type": "display_data"
    },
    {
     "name": "stderr",
     "output_type": "stream",
     "text": [
      "/Users/charlottemoriarty/anaconda3/lib/python3.7/site-packages/sklearn/utils/deprecation.py:125: FutureWarning: You are accessing a training score ('train_score'), which will not be available by default any more in 0.21. If you need training scores, please set return_train_score=True\n",
      "  warnings.warn(*warn_args, **warn_kwargs)\n"
     ]
    },
    {
     "data": {
      "image/png": "[encoded data removed]",
      "text/plain": [
       "<Figure size 432x288 with 1 Axes>"
      ]
     },
     "metadata": {
      "needs_background": "light"
     },
     "output_type": "display_data"
    }
   ],
   "source": [
    "for max_depth in range(2,6,1):\n",
    "    model = RandomForestClassifier(max_depth=max_depth, n_estimators=20,min_samples_leaf=8,random_state=2019)\n",
    "    result = cross_validate(model, X, y, scoring=\"accuracy\", cv=3)\n",
    "    plot_result(\"Random Forest: max_depth=%s\" % max_depth, result, ylim=(0.7, 0.9))"
   ]
  },
  {
   "cell_type": "code",
   "execution_count": 113,
   "metadata": {},
   "outputs": [
    {
     "name": "stdout",
     "output_type": "stream",
     "text": [
      "RandomForestClassifier(bootstrap=True, class_weight=None, criterion='gini',\n",
      "            max_depth=4, max_features='auto', max_leaf_nodes=None,\n",
      "            min_impurity_decrease=0.0, min_impurity_split=None,\n",
      "            min_samples_leaf=8, min_samples_split=2,\n",
      "            min_weight_fraction_leaf=0.0, n_estimators=20, n_jobs=None,\n",
      "            oob_score=False, random_state=201, verbose=0, warm_start=False)\n"
     ]
    }
   ],
   "source": [
    "df_train, df_test = df_all[ ~df.Survived.isnull() ].copy(), df[ df.Survived.isnull() ].copy()\n",
    "\n",
    "model = model = RandomForestClassifier(max_depth=4, n_estimators=20, min_samples_leaf=8, random_state=201)\n",
    "make_prediction(df_train, df_test, model, 'rf_md4_ne20_sl8_fe.csv')"
   ]
  },
  {
   "cell_type": "markdown",
   "metadata": {},
   "source": [
    "###### Ticket"
   ]
  },
  {
   "cell_type": "code",
   "execution_count": 101,
   "metadata": {},
   "outputs": [
    {
     "data": {
      "text/plain": [
       "CA. 2343             11\n",
       "CA 2144               8\n",
       "1601                  8\n",
       "347077                7\n",
       "3101295               7\n",
       "S.O.C. 14879          7\n",
       "347082                7\n",
       "PC 17608              7\n",
       "347088                6\n",
       "113781                6\n",
       "19950                 6\n",
       "382652                6\n",
       "113503                5\n",
       "PC 17757              5\n",
       "220845                5\n",
       "4133                  5\n",
       "W./C. 6608            5\n",
       "349909                5\n",
       "16966                 5\n",
       "C.A. 33112            4\n",
       "36928                 4\n",
       "PC 17483              4\n",
       "17421                 4\n",
       "PC 17755              4\n",
       "113760                4\n",
       "C.A. 34651            4\n",
       "SC/Paris 2123         4\n",
       "LINE                  4\n",
       "230136                4\n",
       "24160                 4\n",
       "                     ..\n",
       "PC 17596              1\n",
       "7935                  1\n",
       "231945                1\n",
       "371060                1\n",
       "239059                1\n",
       "244270                1\n",
       "349231                1\n",
       "323592                1\n",
       "315089                1\n",
       "693                   1\n",
       "SOTON/OQ 3101316      1\n",
       "315151                1\n",
       "315087                1\n",
       "A/4 31416             1\n",
       "C 7077                1\n",
       "S.O./P.P. 251         1\n",
       "S.P. 3464             1\n",
       "315092                1\n",
       "315097                1\n",
       "SC/PARIS 2166         1\n",
       "27267                 1\n",
       "65305                 1\n",
       "S.W./PP 752           1\n",
       "A/5 21173             1\n",
       "STON/O 2. 3101275     1\n",
       "19924                 1\n",
       "111426                1\n",
       "244373                1\n",
       "112901                1\n",
       "248746                1\n",
       "Name: Ticket, Length: 929, dtype: int64"
      ]
     },
     "execution_count": 101,
     "metadata": {},
     "output_type": "execute_result"
    }
   ],
   "source": [
    "df[\"Ticket\"].value_counts()"
   ]
  },
  {
   "cell_type": "markdown",
   "metadata": {},
   "source": [
    "###### konkretne bilety\n",
    "\n"
   ]
  },
  {
   "cell_type": "code",
   "execution_count": 103,
   "metadata": {},
   "outputs": [
    {
     "data": {
      "text/plain": [
       "0               A/5 21171\n",
       "1                PC 17599\n",
       "2        STON/O2. 3101282\n",
       "3                  113803\n",
       "4                  373450\n",
       "5                  330877\n",
       "6                   17463\n",
       "7                  349909\n",
       "8                  347742\n",
       "9                  237736\n",
       "10                PP 9549\n",
       "11                 113783\n",
       "12              A/5. 2151\n",
       "13                 347082\n",
       "14                 350406\n",
       "15                 248706\n",
       "16                 382652\n",
       "17                 244373\n",
       "18                 345763\n",
       "19                   2649\n",
       "20                 239865\n",
       "21                 248698\n",
       "22                 330923\n",
       "23                 113788\n",
       "24                 349909\n",
       "25                 347077\n",
       "26                   2631\n",
       "27                  19950\n",
       "28                 330959\n",
       "29                 349216\n",
       "              ...        \n",
       "388                364858\n",
       "389                349909\n",
       "390                 12749\n",
       "391              PC 17592\n",
       "392             C.A. 2673\n",
       "393            C.A. 30769\n",
       "394                315153\n",
       "395                 13695\n",
       "396                371109\n",
       "397                 13567\n",
       "398                347065\n",
       "399                 21332\n",
       "400                 36928\n",
       "401                 28664\n",
       "402                112378\n",
       "403                113059\n",
       "404                 17765\n",
       "405         SC/PARIS 2166\n",
       "406                 28666\n",
       "407                113503\n",
       "408                334915\n",
       "409    SOTON/O.Q. 3101315\n",
       "410                365237\n",
       "411                 19928\n",
       "412                347086\n",
       "413             A.5. 3236\n",
       "414              PC 17758\n",
       "415    SOTON/O.Q. 3101262\n",
       "416                359309\n",
       "417                  2668\n",
       "Name: Ticket, Length: 1309, dtype: object"
      ]
     },
     "execution_count": 103,
     "metadata": {},
     "output_type": "execute_result"
    }
   ],
   "source": [
    "df_all[\"Ticket\"]"
   ]
  },
  {
   "cell_type": "code",
   "execution_count": 105,
   "metadata": {},
   "outputs": [
    {
     "data": {
      "text/html": [
       "<div>\n",
       "<style scoped>\n",
       "    .dataframe tbody tr th:only-of-type {\n",
       "        vertical-align: middle;\n",
       "    }\n",
       "\n",
       "    .dataframe tbody tr th {\n",
       "        vertical-align: top;\n",
       "    }\n",
       "\n",
       "    .dataframe thead th {\n",
       "        text-align: right;\n",
       "    }\n",
       "</style>\n",
       "<table border=\"1\" class=\"dataframe\">\n",
       "  <thead>\n",
       "    <tr style=\"text-align: right;\">\n",
       "      <th></th>\n",
       "      <th>Age</th>\n",
       "      <th>Cabin</th>\n",
       "      <th>Embarked</th>\n",
       "      <th>Fare</th>\n",
       "      <th>Name</th>\n",
       "      <th>Parch</th>\n",
       "      <th>PassengerId</th>\n",
       "      <th>Pclass</th>\n",
       "      <th>Sex</th>\n",
       "      <th>SibSp</th>\n",
       "      <th>...</th>\n",
       "      <th>title_norm</th>\n",
       "      <th>title_norm_cat</th>\n",
       "      <th>sex_cat</th>\n",
       "      <th>embarked_cat</th>\n",
       "      <th>cabin_norm</th>\n",
       "      <th>cabin_norm_cat</th>\n",
       "      <th>family_size</th>\n",
       "      <th>single</th>\n",
       "      <th>fare_log</th>\n",
       "      <th>age_bin</th>\n",
       "    </tr>\n",
       "  </thead>\n",
       "  <tbody>\n",
       "    <tr>\n",
       "      <th>527</th>\n",
       "      <td>29.0</td>\n",
       "      <td>C95</td>\n",
       "      <td>S</td>\n",
       "      <td>221.7792</td>\n",
       "      <td>Farthing, Mr. John</td>\n",
       "      <td>0</td>\n",
       "      <td>528</td>\n",
       "      <td>1</td>\n",
       "      <td>male</td>\n",
       "      <td>0</td>\n",
       "      <td>...</td>\n",
       "      <td>mr</td>\n",
       "      <td>0</td>\n",
       "      <td>0</td>\n",
       "      <td>0</td>\n",
       "      <td>C</td>\n",
       "      <td>1</td>\n",
       "      <td>0</td>\n",
       "      <td>1</td>\n",
       "      <td>7.799471</td>\n",
       "      <td>0</td>\n",
       "    </tr>\n",
       "    <tr>\n",
       "      <th>81</th>\n",
       "      <td>67.0</td>\n",
       "      <td>C55 C57</td>\n",
       "      <td>S</td>\n",
       "      <td>221.7792</td>\n",
       "      <td>Straus, Mr. Isidor</td>\n",
       "      <td>0</td>\n",
       "      <td>973</td>\n",
       "      <td>1</td>\n",
       "      <td>male</td>\n",
       "      <td>1</td>\n",
       "      <td>...</td>\n",
       "      <td>mr</td>\n",
       "      <td>0</td>\n",
       "      <td>0</td>\n",
       "      <td>0</td>\n",
       "      <td>C</td>\n",
       "      <td>1</td>\n",
       "      <td>1</td>\n",
       "      <td>0</td>\n",
       "      <td>7.799471</td>\n",
       "      <td>7</td>\n",
       "    </tr>\n",
       "    <tr>\n",
       "      <th>114</th>\n",
       "      <td>63.0</td>\n",
       "      <td>C55 C57</td>\n",
       "      <td>S</td>\n",
       "      <td>221.7792</td>\n",
       "      <td>Straus, Mrs. Isidor (Rosalie Ida Blun)</td>\n",
       "      <td>0</td>\n",
       "      <td>1006</td>\n",
       "      <td>1</td>\n",
       "      <td>female</td>\n",
       "      <td>1</td>\n",
       "      <td>...</td>\n",
       "      <td>mrs</td>\n",
       "      <td>1</td>\n",
       "      <td>1</td>\n",
       "      <td>0</td>\n",
       "      <td>C</td>\n",
       "      <td>1</td>\n",
       "      <td>1</td>\n",
       "      <td>0</td>\n",
       "      <td>7.799471</td>\n",
       "      <td>7</td>\n",
       "    </tr>\n",
       "    <tr>\n",
       "      <th>156</th>\n",
       "      <td>29.0</td>\n",
       "      <td>C97</td>\n",
       "      <td>S</td>\n",
       "      <td>221.7792</td>\n",
       "      <td>Bird, Miss. Ellen</td>\n",
       "      <td>0</td>\n",
       "      <td>1048</td>\n",
       "      <td>1</td>\n",
       "      <td>female</td>\n",
       "      <td>0</td>\n",
       "      <td>...</td>\n",
       "      <td>miss</td>\n",
       "      <td>2</td>\n",
       "      <td>1</td>\n",
       "      <td>0</td>\n",
       "      <td>C</td>\n",
       "      <td>1</td>\n",
       "      <td>0</td>\n",
       "      <td>1</td>\n",
       "      <td>7.799471</td>\n",
       "      <td>0</td>\n",
       "    </tr>\n",
       "  </tbody>\n",
       "</table>\n",
       "<p>4 rows × 23 columns</p>\n",
       "</div>"
      ],
      "text/plain": [
       "      Age    Cabin Embarked      Fare                                    Name  \\\n",
       "527  29.0      C95        S  221.7792                      Farthing, Mr. John   \n",
       "81   67.0  C55 C57        S  221.7792                      Straus, Mr. Isidor   \n",
       "114  63.0  C55 C57        S  221.7792  Straus, Mrs. Isidor (Rosalie Ida Blun)   \n",
       "156  29.0      C97        S  221.7792                       Bird, Miss. Ellen   \n",
       "\n",
       "     Parch  PassengerId  Pclass     Sex  SibSp   ...     title_norm  \\\n",
       "527      0          528       1    male      0   ...             mr   \n",
       "81       0          973       1    male      1   ...             mr   \n",
       "114      0         1006       1  female      1   ...            mrs   \n",
       "156      0         1048       1  female      0   ...           miss   \n",
       "\n",
       "    title_norm_cat sex_cat embarked_cat  cabin_norm  cabin_norm_cat  \\\n",
       "527              0       0            0           C               1   \n",
       "81               0       0            0           C               1   \n",
       "114              1       1            0           C               1   \n",
       "156              2       1            0           C               1   \n",
       "\n",
       "     family_size single  fare_log  age_bin  \n",
       "527            0      1  7.799471        0  \n",
       "81             1      0  7.799471        7  \n",
       "114            1      0  7.799471        7  \n",
       "156            0      1  7.799471        0  \n",
       "\n",
       "[4 rows x 23 columns]"
      ]
     },
     "execution_count": 105,
     "metadata": {},
     "output_type": "execute_result"
    }
   ],
   "source": [
    "# testowy bilet nr 2\n",
    "df[df.Ticket == \"PC 17483\"]"
   ]
  },
  {
   "cell_type": "markdown",
   "metadata": {},
   "source": [
    "###### Last name"
   ]
  },
  {
   "cell_type": "code",
   "execution_count": 107,
   "metadata": {},
   "outputs": [
    {
     "data": {
      "text/plain": [
       "Andersson        11\n",
       "Sage             11\n",
       "Goodwin           8\n",
       "Asplund           8\n",
       "Davies            7\n",
       "Brown             6\n",
       "Skoog             6\n",
       "Fortune           6\n",
       "Smith             6\n",
       "Panula            6\n",
       "Rice              6\n",
       "Johnson           6\n",
       "Ford              6\n",
       "Carter            6\n",
       "Palsson           5\n",
       "Ryerson           5\n",
       "Thomas            5\n",
       "Lefebre           5\n",
       "Kelly             5\n",
       "Williams          5\n",
       "Elias             4\n",
       "Johnston          4\n",
       "Laroche           4\n",
       "Johansson         4\n",
       "Harper            4\n",
       "Vander Planke     4\n",
       "Harris            4\n",
       "Becker            4\n",
       "Baclini           4\n",
       "Boulos            4\n",
       "                 ..\n",
       "Persson           1\n",
       "Abrahamsson       1\n",
       "Thorne            1\n",
       "Nirva             1\n",
       "Jonkoff           1\n",
       "Harrison          1\n",
       "Lang              1\n",
       "Silven            1\n",
       "Fischer           1\n",
       "Finoli            1\n",
       "Adahl             1\n",
       "Niklasson         1\n",
       "Osman             1\n",
       "Razi              1\n",
       "Chaudanson        1\n",
       "Partner           1\n",
       "Weir              1\n",
       "Harbeck           1\n",
       "Allum             1\n",
       "Foreman           1\n",
       "Haas              1\n",
       "Silverthorne      1\n",
       "Kreuchen          1\n",
       "Norman            1\n",
       "Heininen          1\n",
       "Reed              1\n",
       "Vovk              1\n",
       "Goncalves         1\n",
       "Long              1\n",
       "Leonard           1\n",
       "Name: Name, Length: 875, dtype: int64"
      ]
     },
     "execution_count": 107,
     "metadata": {},
     "output_type": "execute_result"
    }
   ],
   "source": [
    "df_all[\"Name\"].map(lambda x: x.split(\",\")[0]).value_counts()"
   ]
  },
  {
   "cell_type": "code",
   "execution_count": 108,
   "metadata": {},
   "outputs": [
    {
     "data": {
      "text/html": [
       "<div>\n",
       "<style scoped>\n",
       "    .dataframe tbody tr th:only-of-type {\n",
       "        vertical-align: middle;\n",
       "    }\n",
       "\n",
       "    .dataframe tbody tr th {\n",
       "        vertical-align: top;\n",
       "    }\n",
       "\n",
       "    .dataframe thead th {\n",
       "        text-align: right;\n",
       "    }\n",
       "</style>\n",
       "<table border=\"1\" class=\"dataframe\">\n",
       "  <thead>\n",
       "    <tr style=\"text-align: right;\">\n",
       "      <th></th>\n",
       "      <th>Age</th>\n",
       "      <th>Cabin</th>\n",
       "      <th>Embarked</th>\n",
       "      <th>Fare</th>\n",
       "      <th>Name</th>\n",
       "      <th>Parch</th>\n",
       "      <th>PassengerId</th>\n",
       "      <th>Pclass</th>\n",
       "      <th>Sex</th>\n",
       "      <th>SibSp</th>\n",
       "      <th>...</th>\n",
       "      <th>title_norm</th>\n",
       "      <th>title_norm_cat</th>\n",
       "      <th>sex_cat</th>\n",
       "      <th>embarked_cat</th>\n",
       "      <th>cabin_norm</th>\n",
       "      <th>cabin_norm_cat</th>\n",
       "      <th>family_size</th>\n",
       "      <th>single</th>\n",
       "      <th>fare_log</th>\n",
       "      <th>age_bin</th>\n",
       "    </tr>\n",
       "  </thead>\n",
       "  <tbody>\n",
       "    <tr>\n",
       "      <th>13</th>\n",
       "      <td>39.0</td>\n",
       "      <td>NaN</td>\n",
       "      <td>S</td>\n",
       "      <td>31.2750</td>\n",
       "      <td>Andersson, Mr. Anders Johan</td>\n",
       "      <td>5</td>\n",
       "      <td>14</td>\n",
       "      <td>3</td>\n",
       "      <td>male</td>\n",
       "      <td>1</td>\n",
       "      <td>...</td>\n",
       "      <td>mr</td>\n",
       "      <td>0</td>\n",
       "      <td>0</td>\n",
       "      <td>0</td>\n",
       "      <td>missing</td>\n",
       "      <td>0</td>\n",
       "      <td>6</td>\n",
       "      <td>0</td>\n",
       "      <td>5.012345</td>\n",
       "      <td>0</td>\n",
       "    </tr>\n",
       "    <tr>\n",
       "      <th>68</th>\n",
       "      <td>17.0</td>\n",
       "      <td>NaN</td>\n",
       "      <td>S</td>\n",
       "      <td>7.9250</td>\n",
       "      <td>Andersson, Miss. Erna Alexandra</td>\n",
       "      <td>2</td>\n",
       "      <td>69</td>\n",
       "      <td>3</td>\n",
       "      <td>female</td>\n",
       "      <td>4</td>\n",
       "      <td>...</td>\n",
       "      <td>miss</td>\n",
       "      <td>2</td>\n",
       "      <td>1</td>\n",
       "      <td>0</td>\n",
       "      <td>missing</td>\n",
       "      <td>0</td>\n",
       "      <td>6</td>\n",
       "      <td>0</td>\n",
       "      <td>3.157852</td>\n",
       "      <td>5</td>\n",
       "    </tr>\n",
       "    <tr>\n",
       "      <th>119</th>\n",
       "      <td>2.0</td>\n",
       "      <td>NaN</td>\n",
       "      <td>S</td>\n",
       "      <td>31.2750</td>\n",
       "      <td>Andersson, Miss. Ellis Anna Maria</td>\n",
       "      <td>2</td>\n",
       "      <td>120</td>\n",
       "      <td>3</td>\n",
       "      <td>female</td>\n",
       "      <td>4</td>\n",
       "      <td>...</td>\n",
       "      <td>miss</td>\n",
       "      <td>2</td>\n",
       "      <td>1</td>\n",
       "      <td>0</td>\n",
       "      <td>missing</td>\n",
       "      <td>0</td>\n",
       "      <td>6</td>\n",
       "      <td>0</td>\n",
       "      <td>5.012345</td>\n",
       "      <td>2</td>\n",
       "    </tr>\n",
       "    <tr>\n",
       "      <th>146</th>\n",
       "      <td>27.0</td>\n",
       "      <td>NaN</td>\n",
       "      <td>S</td>\n",
       "      <td>7.7958</td>\n",
       "      <td>Andersson, Mr. August Edvard (\"Wennerstrom\")</td>\n",
       "      <td>0</td>\n",
       "      <td>147</td>\n",
       "      <td>3</td>\n",
       "      <td>male</td>\n",
       "      <td>0</td>\n",
       "      <td>...</td>\n",
       "      <td>mr</td>\n",
       "      <td>0</td>\n",
       "      <td>0</td>\n",
       "      <td>0</td>\n",
       "      <td>missing</td>\n",
       "      <td>0</td>\n",
       "      <td>0</td>\n",
       "      <td>1</td>\n",
       "      <td>3.136815</td>\n",
       "      <td>0</td>\n",
       "    </tr>\n",
       "    <tr>\n",
       "      <th>541</th>\n",
       "      <td>9.0</td>\n",
       "      <td>NaN</td>\n",
       "      <td>S</td>\n",
       "      <td>31.2750</td>\n",
       "      <td>Andersson, Miss. Ingeborg Constanzia</td>\n",
       "      <td>2</td>\n",
       "      <td>542</td>\n",
       "      <td>3</td>\n",
       "      <td>female</td>\n",
       "      <td>4</td>\n",
       "      <td>...</td>\n",
       "      <td>miss</td>\n",
       "      <td>2</td>\n",
       "      <td>1</td>\n",
       "      <td>0</td>\n",
       "      <td>missing</td>\n",
       "      <td>0</td>\n",
       "      <td>6</td>\n",
       "      <td>0</td>\n",
       "      <td>5.012345</td>\n",
       "      <td>6</td>\n",
       "    </tr>\n",
       "    <tr>\n",
       "      <th>542</th>\n",
       "      <td>11.0</td>\n",
       "      <td>NaN</td>\n",
       "      <td>S</td>\n",
       "      <td>31.2750</td>\n",
       "      <td>Andersson, Miss. Sigrid Elisabeth</td>\n",
       "      <td>2</td>\n",
       "      <td>543</td>\n",
       "      <td>3</td>\n",
       "      <td>female</td>\n",
       "      <td>4</td>\n",
       "      <td>...</td>\n",
       "      <td>miss</td>\n",
       "      <td>2</td>\n",
       "      <td>1</td>\n",
       "      <td>0</td>\n",
       "      <td>missing</td>\n",
       "      <td>0</td>\n",
       "      <td>6</td>\n",
       "      <td>0</td>\n",
       "      <td>5.012345</td>\n",
       "      <td>3</td>\n",
       "    </tr>\n",
       "    <tr>\n",
       "      <th>610</th>\n",
       "      <td>39.0</td>\n",
       "      <td>NaN</td>\n",
       "      <td>S</td>\n",
       "      <td>31.2750</td>\n",
       "      <td>Andersson, Mrs. Anders Johan (Alfrida Konstant...</td>\n",
       "      <td>5</td>\n",
       "      <td>611</td>\n",
       "      <td>3</td>\n",
       "      <td>female</td>\n",
       "      <td>1</td>\n",
       "      <td>...</td>\n",
       "      <td>mrs</td>\n",
       "      <td>1</td>\n",
       "      <td>1</td>\n",
       "      <td>0</td>\n",
       "      <td>missing</td>\n",
       "      <td>0</td>\n",
       "      <td>6</td>\n",
       "      <td>0</td>\n",
       "      <td>5.012345</td>\n",
       "      <td>0</td>\n",
       "    </tr>\n",
       "    <tr>\n",
       "      <th>813</th>\n",
       "      <td>6.0</td>\n",
       "      <td>NaN</td>\n",
       "      <td>S</td>\n",
       "      <td>31.2750</td>\n",
       "      <td>Andersson, Miss. Ebba Iris Alfrida</td>\n",
       "      <td>2</td>\n",
       "      <td>814</td>\n",
       "      <td>3</td>\n",
       "      <td>female</td>\n",
       "      <td>4</td>\n",
       "      <td>...</td>\n",
       "      <td>miss</td>\n",
       "      <td>2</td>\n",
       "      <td>1</td>\n",
       "      <td>0</td>\n",
       "      <td>missing</td>\n",
       "      <td>0</td>\n",
       "      <td>6</td>\n",
       "      <td>0</td>\n",
       "      <td>5.012345</td>\n",
       "      <td>6</td>\n",
       "    </tr>\n",
       "    <tr>\n",
       "      <th>850</th>\n",
       "      <td>4.0</td>\n",
       "      <td>NaN</td>\n",
       "      <td>S</td>\n",
       "      <td>31.2750</td>\n",
       "      <td>Andersson, Master. Sigvard Harald Elias</td>\n",
       "      <td>2</td>\n",
       "      <td>851</td>\n",
       "      <td>3</td>\n",
       "      <td>male</td>\n",
       "      <td>4</td>\n",
       "      <td>...</td>\n",
       "      <td>master</td>\n",
       "      <td>3</td>\n",
       "      <td>0</td>\n",
       "      <td>0</td>\n",
       "      <td>missing</td>\n",
       "      <td>0</td>\n",
       "      <td>6</td>\n",
       "      <td>0</td>\n",
       "      <td>5.012345</td>\n",
       "      <td>4</td>\n",
       "    </tr>\n",
       "    <tr>\n",
       "      <th>214</th>\n",
       "      <td>38.0</td>\n",
       "      <td>NaN</td>\n",
       "      <td>S</td>\n",
       "      <td>7.7750</td>\n",
       "      <td>Andersson, Miss. Ida Augusta Margareta</td>\n",
       "      <td>2</td>\n",
       "      <td>1106</td>\n",
       "      <td>3</td>\n",
       "      <td>female</td>\n",
       "      <td>4</td>\n",
       "      <td>...</td>\n",
       "      <td>miss</td>\n",
       "      <td>2</td>\n",
       "      <td>1</td>\n",
       "      <td>0</td>\n",
       "      <td>missing</td>\n",
       "      <td>0</td>\n",
       "      <td>6</td>\n",
       "      <td>0</td>\n",
       "      <td>3.133399</td>\n",
       "      <td>0</td>\n",
       "    </tr>\n",
       "    <tr>\n",
       "      <th>320</th>\n",
       "      <td>26.0</td>\n",
       "      <td>NaN</td>\n",
       "      <td>S</td>\n",
       "      <td>7.7750</td>\n",
       "      <td>Andersson, Mr. Johan Samuel</td>\n",
       "      <td>0</td>\n",
       "      <td>1212</td>\n",
       "      <td>3</td>\n",
       "      <td>male</td>\n",
       "      <td>0</td>\n",
       "      <td>...</td>\n",
       "      <td>mr</td>\n",
       "      <td>0</td>\n",
       "      <td>0</td>\n",
       "      <td>0</td>\n",
       "      <td>missing</td>\n",
       "      <td>0</td>\n",
       "      <td>0</td>\n",
       "      <td>1</td>\n",
       "      <td>3.133399</td>\n",
       "      <td>0</td>\n",
       "    </tr>\n",
       "  </tbody>\n",
       "</table>\n",
       "<p>11 rows × 23 columns</p>\n",
       "</div>"
      ],
      "text/plain": [
       "      Age Cabin Embarked     Fare  \\\n",
       "13   39.0   NaN        S  31.2750   \n",
       "68   17.0   NaN        S   7.9250   \n",
       "119   2.0   NaN        S  31.2750   \n",
       "146  27.0   NaN        S   7.7958   \n",
       "541   9.0   NaN        S  31.2750   \n",
       "542  11.0   NaN        S  31.2750   \n",
       "610  39.0   NaN        S  31.2750   \n",
       "813   6.0   NaN        S  31.2750   \n",
       "850   4.0   NaN        S  31.2750   \n",
       "214  38.0   NaN        S   7.7750   \n",
       "320  26.0   NaN        S   7.7750   \n",
       "\n",
       "                                                  Name  Parch  PassengerId  \\\n",
       "13                         Andersson, Mr. Anders Johan      5           14   \n",
       "68                     Andersson, Miss. Erna Alexandra      2           69   \n",
       "119                  Andersson, Miss. Ellis Anna Maria      2          120   \n",
       "146       Andersson, Mr. August Edvard (\"Wennerstrom\")      0          147   \n",
       "541               Andersson, Miss. Ingeborg Constanzia      2          542   \n",
       "542                  Andersson, Miss. Sigrid Elisabeth      2          543   \n",
       "610  Andersson, Mrs. Anders Johan (Alfrida Konstant...      5          611   \n",
       "813                 Andersson, Miss. Ebba Iris Alfrida      2          814   \n",
       "850            Andersson, Master. Sigvard Harald Elias      2          851   \n",
       "214             Andersson, Miss. Ida Augusta Margareta      2         1106   \n",
       "320                        Andersson, Mr. Johan Samuel      0         1212   \n",
       "\n",
       "     Pclass     Sex  SibSp   ...     title_norm title_norm_cat sex_cat  \\\n",
       "13        3    male      1   ...             mr              0       0   \n",
       "68        3  female      4   ...           miss              2       1   \n",
       "119       3  female      4   ...           miss              2       1   \n",
       "146       3    male      0   ...             mr              0       0   \n",
       "541       3  female      4   ...           miss              2       1   \n",
       "542       3  female      4   ...           miss              2       1   \n",
       "610       3  female      1   ...            mrs              1       1   \n",
       "813       3  female      4   ...           miss              2       1   \n",
       "850       3    male      4   ...         master              3       0   \n",
       "214       3  female      4   ...           miss              2       1   \n",
       "320       3    male      0   ...             mr              0       0   \n",
       "\n",
       "    embarked_cat  cabin_norm  cabin_norm_cat  family_size single  fare_log  \\\n",
       "13             0     missing               0            6      0  5.012345   \n",
       "68             0     missing               0            6      0  3.157852   \n",
       "119            0     missing               0            6      0  5.012345   \n",
       "146            0     missing               0            0      1  3.136815   \n",
       "541            0     missing               0            6      0  5.012345   \n",
       "542            0     missing               0            6      0  5.012345   \n",
       "610            0     missing               0            6      0  5.012345   \n",
       "813            0     missing               0            6      0  5.012345   \n",
       "850            0     missing               0            6      0  5.012345   \n",
       "214            0     missing               0            6      0  3.133399   \n",
       "320            0     missing               0            0      1  3.133399   \n",
       "\n",
       "     age_bin  \n",
       "13         0  \n",
       "68         5  \n",
       "119        2  \n",
       "146        0  \n",
       "541        6  \n",
       "542        3  \n",
       "610        0  \n",
       "813        6  \n",
       "850        4  \n",
       "214        0  \n",
       "320        0  \n",
       "\n",
       "[11 rows x 23 columns]"
      ]
     },
     "execution_count": 108,
     "metadata": {},
     "output_type": "execute_result"
    }
   ],
   "source": [
    "# wyszukiwanie  po konkretnym nawisku\n",
    "df_all[df_all.Name.map(lambda x: x.split(\",\")[0] == \"Andersson\")]"
   ]
  },
  {
   "cell_type": "code",
   "execution_count": 109,
   "metadata": {},
   "outputs": [
    {
     "data": {
      "text/html": [
       "<div>\n",
       "<style scoped>\n",
       "    .dataframe tbody tr th:only-of-type {\n",
       "        vertical-align: middle;\n",
       "    }\n",
       "\n",
       "    .dataframe tbody tr th {\n",
       "        vertical-align: top;\n",
       "    }\n",
       "\n",
       "    .dataframe thead th {\n",
       "        text-align: right;\n",
       "    }\n",
       "</style>\n",
       "<table border=\"1\" class=\"dataframe\">\n",
       "  <thead>\n",
       "    <tr style=\"text-align: right;\">\n",
       "      <th></th>\n",
       "      <th>Age</th>\n",
       "      <th>Cabin</th>\n",
       "      <th>Embarked</th>\n",
       "      <th>Fare</th>\n",
       "      <th>Name</th>\n",
       "      <th>Parch</th>\n",
       "      <th>PassengerId</th>\n",
       "      <th>Pclass</th>\n",
       "      <th>Sex</th>\n",
       "      <th>SibSp</th>\n",
       "      <th>...</th>\n",
       "      <th>title_norm</th>\n",
       "      <th>title_norm_cat</th>\n",
       "      <th>sex_cat</th>\n",
       "      <th>embarked_cat</th>\n",
       "      <th>cabin_norm</th>\n",
       "      <th>cabin_norm_cat</th>\n",
       "      <th>family_size</th>\n",
       "      <th>single</th>\n",
       "      <th>fare_log</th>\n",
       "      <th>age_bin</th>\n",
       "    </tr>\n",
       "  </thead>\n",
       "  <tbody>\n",
       "    <tr>\n",
       "      <th>27</th>\n",
       "      <td>19.0</td>\n",
       "      <td>C23 C25 C27</td>\n",
       "      <td>S</td>\n",
       "      <td>263.0</td>\n",
       "      <td>Fortune, Mr. Charles Alexander</td>\n",
       "      <td>2</td>\n",
       "      <td>28</td>\n",
       "      <td>1</td>\n",
       "      <td>male</td>\n",
       "      <td>3</td>\n",
       "      <td>...</td>\n",
       "      <td>mr</td>\n",
       "      <td>0</td>\n",
       "      <td>0</td>\n",
       "      <td>0</td>\n",
       "      <td>C</td>\n",
       "      <td>1</td>\n",
       "      <td>5</td>\n",
       "      <td>0</td>\n",
       "      <td>8.044394</td>\n",
       "      <td>5</td>\n",
       "    </tr>\n",
       "    <tr>\n",
       "      <th>88</th>\n",
       "      <td>23.0</td>\n",
       "      <td>C23 C25 C27</td>\n",
       "      <td>S</td>\n",
       "      <td>263.0</td>\n",
       "      <td>Fortune, Miss. Mabel Helen</td>\n",
       "      <td>2</td>\n",
       "      <td>89</td>\n",
       "      <td>1</td>\n",
       "      <td>female</td>\n",
       "      <td>3</td>\n",
       "      <td>...</td>\n",
       "      <td>miss</td>\n",
       "      <td>2</td>\n",
       "      <td>1</td>\n",
       "      <td>0</td>\n",
       "      <td>C</td>\n",
       "      <td>1</td>\n",
       "      <td>5</td>\n",
       "      <td>0</td>\n",
       "      <td>8.044394</td>\n",
       "      <td>0</td>\n",
       "    </tr>\n",
       "    <tr>\n",
       "      <th>341</th>\n",
       "      <td>24.0</td>\n",
       "      <td>C23 C25 C27</td>\n",
       "      <td>S</td>\n",
       "      <td>263.0</td>\n",
       "      <td>Fortune, Miss. Alice Elizabeth</td>\n",
       "      <td>2</td>\n",
       "      <td>342</td>\n",
       "      <td>1</td>\n",
       "      <td>female</td>\n",
       "      <td>3</td>\n",
       "      <td>...</td>\n",
       "      <td>miss</td>\n",
       "      <td>2</td>\n",
       "      <td>1</td>\n",
       "      <td>0</td>\n",
       "      <td>C</td>\n",
       "      <td>1</td>\n",
       "      <td>5</td>\n",
       "      <td>0</td>\n",
       "      <td>8.044394</td>\n",
       "      <td>0</td>\n",
       "    </tr>\n",
       "    <tr>\n",
       "      <th>438</th>\n",
       "      <td>64.0</td>\n",
       "      <td>C23 C25 C27</td>\n",
       "      <td>S</td>\n",
       "      <td>263.0</td>\n",
       "      <td>Fortune, Mr. Mark</td>\n",
       "      <td>4</td>\n",
       "      <td>439</td>\n",
       "      <td>1</td>\n",
       "      <td>male</td>\n",
       "      <td>1</td>\n",
       "      <td>...</td>\n",
       "      <td>mr</td>\n",
       "      <td>0</td>\n",
       "      <td>0</td>\n",
       "      <td>0</td>\n",
       "      <td>C</td>\n",
       "      <td>1</td>\n",
       "      <td>5</td>\n",
       "      <td>0</td>\n",
       "      <td>8.044394</td>\n",
       "      <td>7</td>\n",
       "    </tr>\n",
       "    <tr>\n",
       "      <th>53</th>\n",
       "      <td>28.0</td>\n",
       "      <td>C23 C25 C27</td>\n",
       "      <td>S</td>\n",
       "      <td>263.0</td>\n",
       "      <td>Fortune, Miss. Ethel Flora</td>\n",
       "      <td>2</td>\n",
       "      <td>945</td>\n",
       "      <td>1</td>\n",
       "      <td>female</td>\n",
       "      <td>3</td>\n",
       "      <td>...</td>\n",
       "      <td>miss</td>\n",
       "      <td>2</td>\n",
       "      <td>1</td>\n",
       "      <td>0</td>\n",
       "      <td>C</td>\n",
       "      <td>1</td>\n",
       "      <td>5</td>\n",
       "      <td>0</td>\n",
       "      <td>8.044394</td>\n",
       "      <td>0</td>\n",
       "    </tr>\n",
       "    <tr>\n",
       "      <th>69</th>\n",
       "      <td>60.0</td>\n",
       "      <td>C23 C25 C27</td>\n",
       "      <td>S</td>\n",
       "      <td>263.0</td>\n",
       "      <td>Fortune, Mrs. Mark (Mary McDougald)</td>\n",
       "      <td>4</td>\n",
       "      <td>961</td>\n",
       "      <td>1</td>\n",
       "      <td>female</td>\n",
       "      <td>1</td>\n",
       "      <td>...</td>\n",
       "      <td>mrs</td>\n",
       "      <td>1</td>\n",
       "      <td>1</td>\n",
       "      <td>0</td>\n",
       "      <td>C</td>\n",
       "      <td>1</td>\n",
       "      <td>5</td>\n",
       "      <td>0</td>\n",
       "      <td>8.044394</td>\n",
       "      <td>1</td>\n",
       "    </tr>\n",
       "  </tbody>\n",
       "</table>\n",
       "<p>6 rows × 23 columns</p>\n",
       "</div>"
      ],
      "text/plain": [
       "      Age        Cabin Embarked   Fare                                 Name  \\\n",
       "27   19.0  C23 C25 C27        S  263.0       Fortune, Mr. Charles Alexander   \n",
       "88   23.0  C23 C25 C27        S  263.0           Fortune, Miss. Mabel Helen   \n",
       "341  24.0  C23 C25 C27        S  263.0       Fortune, Miss. Alice Elizabeth   \n",
       "438  64.0  C23 C25 C27        S  263.0                    Fortune, Mr. Mark   \n",
       "53   28.0  C23 C25 C27        S  263.0           Fortune, Miss. Ethel Flora   \n",
       "69   60.0  C23 C25 C27        S  263.0  Fortune, Mrs. Mark (Mary McDougald)   \n",
       "\n",
       "     Parch  PassengerId  Pclass     Sex  SibSp   ...     title_norm  \\\n",
       "27       2           28       1    male      3   ...             mr   \n",
       "88       2           89       1  female      3   ...           miss   \n",
       "341      2          342       1  female      3   ...           miss   \n",
       "438      4          439       1    male      1   ...             mr   \n",
       "53       2          945       1  female      3   ...           miss   \n",
       "69       4          961       1  female      1   ...            mrs   \n",
       "\n",
       "    title_norm_cat sex_cat embarked_cat  cabin_norm  cabin_norm_cat  \\\n",
       "27               0       0            0           C               1   \n",
       "88               2       1            0           C               1   \n",
       "341              2       1            0           C               1   \n",
       "438              0       0            0           C               1   \n",
       "53               2       1            0           C               1   \n",
       "69               1       1            0           C               1   \n",
       "\n",
       "     family_size single  fare_log  age_bin  \n",
       "27             5      0  8.044394        5  \n",
       "88             5      0  8.044394        0  \n",
       "341            5      0  8.044394        0  \n",
       "438            5      0  8.044394        7  \n",
       "53             5      0  8.044394        0  \n",
       "69             5      0  8.044394        1  \n",
       "\n",
       "[6 rows x 23 columns]"
      ]
     },
     "execution_count": 109,
     "metadata": {},
     "output_type": "execute_result"
    }
   ],
   "source": [
    "df_all[df_all.Name.map(lambda x: x.split(\",\")[0] == \"Fortune\")]"
   ]
  },
  {
   "cell_type": "code",
   "execution_count": 114,
   "metadata": {},
   "outputs": [
    {
     "name": "stderr",
     "output_type": "stream",
     "text": [
      "/Users/charlottemoriarty/anaconda3/lib/python3.7/site-packages/sklearn/utils/deprecation.py:125: FutureWarning: You are accessing a training score ('train_score'), which will not be available by default any more in 0.21. If you need training scores, please set return_train_score=True\n",
      "  warnings.warn(*warn_args, **warn_kwargs)\n"
     ]
    },
    {
     "data": {
      "image/png": "[encoded data removed]",
      "text/plain": [
       "<Figure size 432x288 with 1 Axes>"
      ]
     },
     "metadata": {
      "needs_background": "light"
     },
     "output_type": "display_data"
    }
   ],
   "source": [
    "\n",
    "model = xgb.XGBClassifier(max_depth=3, n_estimators=15, subsample=0.8, random_state=2019)\n",
    "result = cross_validate(model, X, y, scoring='accuracy', cv=3)\n",
    "plot_result(\"Random Forest: max_depth=%s\" % max_depth, result, ylim=(0.7, 0.9))"
   ]
  },
  {
   "cell_type": "code",
   "execution_count": null,
   "metadata": {},
   "outputs": [],
   "source": []
  }
 ],
 "metadata": {
  "kernelspec": {
   "display_name": "Python 3",
   "language": "python",
   "name": "python3"
  },
  "language_info": {
   "codemirror_mode": {
    "name": "ipython",
    "version": 3
   },
   "file_extension": ".py",
   "mimetype": "text/x-python",
   "name": "python",
   "nbconvert_exporter": "python",
   "pygments_lexer": "ipython3",
   "version": "3.7.1"
  }
 },
 "nbformat": 4,
 "nbformat_minor": 2
}
